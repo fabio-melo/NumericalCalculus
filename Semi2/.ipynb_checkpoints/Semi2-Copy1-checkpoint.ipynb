{
 "cells": [
  {
   "cell_type": "code",
   "execution_count": 11,
   "metadata": {
    "ExecuteTime": {
     "end_time": "2019-08-20T12:34:57.182594Z",
     "start_time": "2019-08-20T12:34:57.150706Z"
    },
    "slideshow": {
     "slide_type": "slide"
    }
   },
   "outputs": [
    {
     "data": {
      "text/html": [
       "<head>\n",
       "          <script type=\"text/x-mathjax-config\">\n",
       "            MathJax.Hub.Config({tex2jax: {inlineMath: [['$','$'], ['\\\\(','\\\\)']]}});\n",
       "          </script>\n",
       "          <script type=\"text/javascript\" async\n",
       "            src=\"https://example.com/mathjax/MathJax.js?config=TeX-AMS_CHTML\">\n",
       "          </script>\n",
       "          </head>\n",
       "          "
      ],
      "text/plain": [
       "<IPython.core.display.HTML object>"
      ]
     },
     "metadata": {},
     "output_type": "display_data"
    },
    {
     "data": {
      "text/html": [
       "\n",
       "<style>\n",
       "    div#notebook-container    { width: 100%; }\n",
       "    div#menubar-container     { width: 65%; }\n",
       "    div#maintoolbar-container { width: 99%; }\n",
       "    body {\n",
       "    font-family: \"Comic Sans MS\", cursive, sans-serif;\n",
       "}\n",
       ".container { width:100% !important; }\n",
       "\n",
       ".CodeMirror {\n",
       "    width: 100vw;\n",
       "}\n",
       "\n",
       ".container {\n",
       "    width: 99% !important;\n",
       "}\n",
       "\n",
       ".rendered_html {\n",
       "  font-size:0.8em;\n",
       "\n",
       "}.CodeMirror {\n",
       "    width: 100vw;\n",
       "}\n",
       "\n",
       ".container {\n",
       "    width: 99% !important;\n",
       "}\n",
       "\n",
       ".rendered_html {\n",
       "  font-size:0.8em;\n",
       "\n",
       "}\n",
       ".rendered_html table, .rendered_html th, .rendered_html tr, .rendered_html td {\n",
       "     font-size: 70%;\n",
       "}\n",
       "\n",
       "\n",
       ".rendered_html table, .rendered_html th, .rendered_html tr, .rendered_html td {\n",
       "     font-size: 70%;\n",
       "}\n",
       "\n",
       "\n",
       "\n",
       "</style>\n"
      ],
      "text/plain": [
       "<IPython.core.display.HTML object>"
      ]
     },
     "metadata": {},
     "output_type": "display_data"
    }
   ],
   "source": [
    "# boilerplate\n",
    "%matplotlib notebook\n",
    "\n",
    "import matplotlib.pyplot as plt\n",
    "import numpy as np\n",
    "from pretty import mat_print, mathjax,math\n",
    "from IPython.display import display, HTML\n",
    "\n",
    "import ipywidgets as widgets\n",
    "from mpl_toolkits.mplot3d import Axes3D\n",
    "\n",
    "display(HTML(mathjax))\n",
    "\n",
    "\n",
    "display(HTML(data=\"\"\"\n",
    "<style>\n",
    "    div#notebook-container    { width: 100%; }\n",
    "    div#menubar-container     { width: 65%; }\n",
    "    div#maintoolbar-container { width: 99%; }\n",
    "    body {\n",
    "    font-family: \"Comic Sans MS\", cursive, sans-serif;\n",
    "}\n",
    ".container { width:100% !important; }\n",
    "\n",
    ".CodeMirror {\n",
    "    width: 100vw;\n",
    "}\n",
    "\n",
    ".container {\n",
    "    width: 99% !important;\n",
    "}\n",
    "\n",
    ".rendered_html {\n",
    "  font-size:0.8em;\n",
    "\n",
    "}.CodeMirror {\n",
    "    width: 100vw;\n",
    "}\n",
    "\n",
    ".container {\n",
    "    width: 99% !important;\n",
    "}\n",
    "\n",
    ".rendered_html {\n",
    "  font-size:0.8em;\n",
    "\n",
    "}\n",
    ".rendered_html table, .rendered_html th, .rendered_html tr, .rendered_html td {\n",
    "     font-size: 70%;\n",
    "}\n",
    "\n",
    "\n",
    ".rendered_html table, .rendered_html th, .rendered_html tr, .rendered_html td {\n",
    "     font-size: 70%;\n",
    "}\n",
    "\n",
    "\n",
    "\n",
    "</style>\n",
    "\"\"\"))"
   ]
  },
  {
   "cell_type": "markdown",
   "metadata": {
    "hide_input": false,
    "slideshow": {
     "slide_type": "slide"
    }
   },
   "source": [
    "# Projeto de Numérico\n",
    "## Alunos: Fábio Melo e Thuane Mikaella"
   ]
  },
  {
   "cell_type": "markdown",
   "metadata": {
    "slideshow": {
     "slide_type": "slide"
    }
   },
   "source": [
    "# O Projeto de hoje é:\n",
    "## fomos hackeados, não vai ter projeto. :("
   ]
  },
  {
   "cell_type": "markdown",
   "metadata": {
    "slideshow": {
     "slide_type": "slide"
    }
   },
   "source": [
    "![alt text](files/hacks1.png \"Logo Title Text 1\")\n"
   ]
  },
  {
   "cell_type": "markdown",
   "metadata": {
    "slideshow": {
     "slide_type": "slide"
    }
   },
   "source": [
    "# MIB\n",
    "\n",
    "O SOL HOJE ESTÁ TÃO **VERMELHO** QUE PARECE ATÉ **252** MIL GRAUS KELVIN, JÁ QUE ESSE VERÃO DE **61** SEMANAS NÃO ACABA EM **113** TONS DE COR.\n",
    "\n",
    "VOCÊ É **VERDE** MEU AMIGO, NÃO COMPILOU NEM **2** BINÁRIOS NAS MAIS DE **178** OPORTUNIDADES QUE TEVE, E AINDA LIGA DDD **21**.\n",
    "\n",
    "E NÃO TEM **AZUL** QUE SE SALVE PORQUE EU TÔ ATŔAS DE **6** PROXIES E USANDO **1** VPN COM **21** ROTAS DIFERENTES.\n",
    "\n",
    "## MAN IN BLACK..\n",
    "# MIB."
   ]
  },
  {
   "cell_type": "code",
   "execution_count": 2,
   "metadata": {
    "ExecuteTime": {
     "end_time": "2019-08-20T12:21:01.322047Z",
     "start_time": "2019-08-20T12:21:01.203301Z"
    },
    "slideshow": {
     "slide_type": "slide"
    }
   },
   "outputs": [
    {
     "data": {
      "application/javascript": [
       "/* Put everything inside the global mpl namespace */\n",
       "window.mpl = {};\n",
       "\n",
       "\n",
       "mpl.get_websocket_type = function() {\n",
       "    if (typeof(WebSocket) !== 'undefined') {\n",
       "        return WebSocket;\n",
       "    } else if (typeof(MozWebSocket) !== 'undefined') {\n",
       "        return MozWebSocket;\n",
       "    } else {\n",
       "        alert('Your browser does not have WebSocket support. ' +\n",
       "              'Please try Chrome, Safari or Firefox ≥ 6. ' +\n",
       "              'Firefox 4 and 5 are also supported but you ' +\n",
       "              'have to enable WebSockets in about:config.');\n",
       "    };\n",
       "}\n",
       "\n",
       "mpl.figure = function(figure_id, websocket, ondownload, parent_element) {\n",
       "    this.id = figure_id;\n",
       "\n",
       "    this.ws = websocket;\n",
       "\n",
       "    this.supports_binary = (this.ws.binaryType != undefined);\n",
       "\n",
       "    if (!this.supports_binary) {\n",
       "        var warnings = document.getElementById(\"mpl-warnings\");\n",
       "        if (warnings) {\n",
       "            warnings.style.display = 'block';\n",
       "            warnings.textContent = (\n",
       "                \"This browser does not support binary websocket messages. \" +\n",
       "                    \"Performance may be slow.\");\n",
       "        }\n",
       "    }\n",
       "\n",
       "    this.imageObj = new Image();\n",
       "\n",
       "    this.context = undefined;\n",
       "    this.message = undefined;\n",
       "    this.canvas = undefined;\n",
       "    this.rubberband_canvas = undefined;\n",
       "    this.rubberband_context = undefined;\n",
       "    this.format_dropdown = undefined;\n",
       "\n",
       "    this.image_mode = 'full';\n",
       "\n",
       "    this.root = $('<div/>');\n",
       "    this._root_extra_style(this.root)\n",
       "    this.root.attr('style', 'display: inline-block');\n",
       "\n",
       "    $(parent_element).append(this.root);\n",
       "\n",
       "    this._init_header(this);\n",
       "    this._init_canvas(this);\n",
       "    this._init_toolbar(this);\n",
       "\n",
       "    var fig = this;\n",
       "\n",
       "    this.waiting = false;\n",
       "\n",
       "    this.ws.onopen =  function () {\n",
       "            fig.send_message(\"supports_binary\", {value: fig.supports_binary});\n",
       "            fig.send_message(\"send_image_mode\", {});\n",
       "            if (mpl.ratio != 1) {\n",
       "                fig.send_message(\"set_dpi_ratio\", {'dpi_ratio': mpl.ratio});\n",
       "            }\n",
       "            fig.send_message(\"refresh\", {});\n",
       "        }\n",
       "\n",
       "    this.imageObj.onload = function() {\n",
       "            if (fig.image_mode == 'full') {\n",
       "                // Full images could contain transparency (where diff images\n",
       "                // almost always do), so we need to clear the canvas so that\n",
       "                // there is no ghosting.\n",
       "                fig.context.clearRect(0, 0, fig.canvas.width, fig.canvas.height);\n",
       "            }\n",
       "            fig.context.drawImage(fig.imageObj, 0, 0);\n",
       "        };\n",
       "\n",
       "    this.imageObj.onunload = function() {\n",
       "        fig.ws.close();\n",
       "    }\n",
       "\n",
       "    this.ws.onmessage = this._make_on_message_function(this);\n",
       "\n",
       "    this.ondownload = ondownload;\n",
       "}\n",
       "\n",
       "mpl.figure.prototype._init_header = function() {\n",
       "    var titlebar = $(\n",
       "        '<div class=\"ui-dialog-titlebar ui-widget-header ui-corner-all ' +\n",
       "        'ui-helper-clearfix\"/>');\n",
       "    var titletext = $(\n",
       "        '<div class=\"ui-dialog-title\" style=\"width: 100%; ' +\n",
       "        'text-align: center; padding: 3px;\"/>');\n",
       "    titlebar.append(titletext)\n",
       "    this.root.append(titlebar);\n",
       "    this.header = titletext[0];\n",
       "}\n",
       "\n",
       "\n",
       "\n",
       "mpl.figure.prototype._canvas_extra_style = function(canvas_div) {\n",
       "\n",
       "}\n",
       "\n",
       "\n",
       "mpl.figure.prototype._root_extra_style = function(canvas_div) {\n",
       "\n",
       "}\n",
       "\n",
       "mpl.figure.prototype._init_canvas = function() {\n",
       "    var fig = this;\n",
       "\n",
       "    var canvas_div = $('<div/>');\n",
       "\n",
       "    canvas_div.attr('style', 'position: relative; clear: both; outline: 0');\n",
       "\n",
       "    function canvas_keyboard_event(event) {\n",
       "        return fig.key_event(event, event['data']);\n",
       "    }\n",
       "\n",
       "    canvas_div.keydown('key_press', canvas_keyboard_event);\n",
       "    canvas_div.keyup('key_release', canvas_keyboard_event);\n",
       "    this.canvas_div = canvas_div\n",
       "    this._canvas_extra_style(canvas_div)\n",
       "    this.root.append(canvas_div);\n",
       "\n",
       "    var canvas = $('<canvas/>');\n",
       "    canvas.addClass('mpl-canvas');\n",
       "    canvas.attr('style', \"left: 0; top: 0; z-index: 0; outline: 0\")\n",
       "\n",
       "    this.canvas = canvas[0];\n",
       "    this.context = canvas[0].getContext(\"2d\");\n",
       "\n",
       "    var backingStore = this.context.backingStorePixelRatio ||\n",
       "\tthis.context.webkitBackingStorePixelRatio ||\n",
       "\tthis.context.mozBackingStorePixelRatio ||\n",
       "\tthis.context.msBackingStorePixelRatio ||\n",
       "\tthis.context.oBackingStorePixelRatio ||\n",
       "\tthis.context.backingStorePixelRatio || 1;\n",
       "\n",
       "    mpl.ratio = (window.devicePixelRatio || 1) / backingStore;\n",
       "\n",
       "    var rubberband = $('<canvas/>');\n",
       "    rubberband.attr('style', \"position: absolute; left: 0; top: 0; z-index: 1;\")\n",
       "\n",
       "    var pass_mouse_events = true;\n",
       "\n",
       "    canvas_div.resizable({\n",
       "        start: function(event, ui) {\n",
       "            pass_mouse_events = false;\n",
       "        },\n",
       "        resize: function(event, ui) {\n",
       "            fig.request_resize(ui.size.width, ui.size.height);\n",
       "        },\n",
       "        stop: function(event, ui) {\n",
       "            pass_mouse_events = true;\n",
       "            fig.request_resize(ui.size.width, ui.size.height);\n",
       "        },\n",
       "    });\n",
       "\n",
       "    function mouse_event_fn(event) {\n",
       "        if (pass_mouse_events)\n",
       "            return fig.mouse_event(event, event['data']);\n",
       "    }\n",
       "\n",
       "    rubberband.mousedown('button_press', mouse_event_fn);\n",
       "    rubberband.mouseup('button_release', mouse_event_fn);\n",
       "    // Throttle sequential mouse events to 1 every 20ms.\n",
       "    rubberband.mousemove('motion_notify', mouse_event_fn);\n",
       "\n",
       "    rubberband.mouseenter('figure_enter', mouse_event_fn);\n",
       "    rubberband.mouseleave('figure_leave', mouse_event_fn);\n",
       "\n",
       "    canvas_div.on(\"wheel\", function (event) {\n",
       "        event = event.originalEvent;\n",
       "        event['data'] = 'scroll'\n",
       "        if (event.deltaY < 0) {\n",
       "            event.step = 1;\n",
       "        } else {\n",
       "            event.step = -1;\n",
       "        }\n",
       "        mouse_event_fn(event);\n",
       "    });\n",
       "\n",
       "    canvas_div.append(canvas);\n",
       "    canvas_div.append(rubberband);\n",
       "\n",
       "    this.rubberband = rubberband;\n",
       "    this.rubberband_canvas = rubberband[0];\n",
       "    this.rubberband_context = rubberband[0].getContext(\"2d\");\n",
       "    this.rubberband_context.strokeStyle = \"#000000\";\n",
       "\n",
       "    this._resize_canvas = function(width, height) {\n",
       "        // Keep the size of the canvas, canvas container, and rubber band\n",
       "        // canvas in synch.\n",
       "        canvas_div.css('width', width)\n",
       "        canvas_div.css('height', height)\n",
       "\n",
       "        canvas.attr('width', width * mpl.ratio);\n",
       "        canvas.attr('height', height * mpl.ratio);\n",
       "        canvas.attr('style', 'width: ' + width + 'px; height: ' + height + 'px;');\n",
       "\n",
       "        rubberband.attr('width', width);\n",
       "        rubberband.attr('height', height);\n",
       "    }\n",
       "\n",
       "    // Set the figure to an initial 600x600px, this will subsequently be updated\n",
       "    // upon first draw.\n",
       "    this._resize_canvas(600, 600);\n",
       "\n",
       "    // Disable right mouse context menu.\n",
       "    $(this.rubberband_canvas).bind(\"contextmenu\",function(e){\n",
       "        return false;\n",
       "    });\n",
       "\n",
       "    function set_focus () {\n",
       "        canvas.focus();\n",
       "        canvas_div.focus();\n",
       "    }\n",
       "\n",
       "    window.setTimeout(set_focus, 100);\n",
       "}\n",
       "\n",
       "mpl.figure.prototype._init_toolbar = function() {\n",
       "    var fig = this;\n",
       "\n",
       "    var nav_element = $('<div/>');\n",
       "    nav_element.attr('style', 'width: 100%');\n",
       "    this.root.append(nav_element);\n",
       "\n",
       "    // Define a callback function for later on.\n",
       "    function toolbar_event(event) {\n",
       "        return fig.toolbar_button_onclick(event['data']);\n",
       "    }\n",
       "    function toolbar_mouse_event(event) {\n",
       "        return fig.toolbar_button_onmouseover(event['data']);\n",
       "    }\n",
       "\n",
       "    for(var toolbar_ind in mpl.toolbar_items) {\n",
       "        var name = mpl.toolbar_items[toolbar_ind][0];\n",
       "        var tooltip = mpl.toolbar_items[toolbar_ind][1];\n",
       "        var image = mpl.toolbar_items[toolbar_ind][2];\n",
       "        var method_name = mpl.toolbar_items[toolbar_ind][3];\n",
       "\n",
       "        if (!name) {\n",
       "            // put a spacer in here.\n",
       "            continue;\n",
       "        }\n",
       "        var button = $('<button/>');\n",
       "        button.addClass('ui-button ui-widget ui-state-default ui-corner-all ' +\n",
       "                        'ui-button-icon-only');\n",
       "        button.attr('role', 'button');\n",
       "        button.attr('aria-disabled', 'false');\n",
       "        button.click(method_name, toolbar_event);\n",
       "        button.mouseover(tooltip, toolbar_mouse_event);\n",
       "\n",
       "        var icon_img = $('<span/>');\n",
       "        icon_img.addClass('ui-button-icon-primary ui-icon');\n",
       "        icon_img.addClass(image);\n",
       "        icon_img.addClass('ui-corner-all');\n",
       "\n",
       "        var tooltip_span = $('<span/>');\n",
       "        tooltip_span.addClass('ui-button-text');\n",
       "        tooltip_span.html(tooltip);\n",
       "\n",
       "        button.append(icon_img);\n",
       "        button.append(tooltip_span);\n",
       "\n",
       "        nav_element.append(button);\n",
       "    }\n",
       "\n",
       "    var fmt_picker_span = $('<span/>');\n",
       "\n",
       "    var fmt_picker = $('<select/>');\n",
       "    fmt_picker.addClass('mpl-toolbar-option ui-widget ui-widget-content');\n",
       "    fmt_picker_span.append(fmt_picker);\n",
       "    nav_element.append(fmt_picker_span);\n",
       "    this.format_dropdown = fmt_picker[0];\n",
       "\n",
       "    for (var ind in mpl.extensions) {\n",
       "        var fmt = mpl.extensions[ind];\n",
       "        var option = $(\n",
       "            '<option/>', {selected: fmt === mpl.default_extension}).html(fmt);\n",
       "        fmt_picker.append(option);\n",
       "    }\n",
       "\n",
       "    // Add hover states to the ui-buttons\n",
       "    $( \".ui-button\" ).hover(\n",
       "        function() { $(this).addClass(\"ui-state-hover\");},\n",
       "        function() { $(this).removeClass(\"ui-state-hover\");}\n",
       "    );\n",
       "\n",
       "    var status_bar = $('<span class=\"mpl-message\"/>');\n",
       "    nav_element.append(status_bar);\n",
       "    this.message = status_bar[0];\n",
       "}\n",
       "\n",
       "mpl.figure.prototype.request_resize = function(x_pixels, y_pixels) {\n",
       "    // Request matplotlib to resize the figure. Matplotlib will then trigger a resize in the client,\n",
       "    // which will in turn request a refresh of the image.\n",
       "    this.send_message('resize', {'width': x_pixels, 'height': y_pixels});\n",
       "}\n",
       "\n",
       "mpl.figure.prototype.send_message = function(type, properties) {\n",
       "    properties['type'] = type;\n",
       "    properties['figure_id'] = this.id;\n",
       "    this.ws.send(JSON.stringify(properties));\n",
       "}\n",
       "\n",
       "mpl.figure.prototype.send_draw_message = function() {\n",
       "    if (!this.waiting) {\n",
       "        this.waiting = true;\n",
       "        this.ws.send(JSON.stringify({type: \"draw\", figure_id: this.id}));\n",
       "    }\n",
       "}\n",
       "\n",
       "\n",
       "mpl.figure.prototype.handle_save = function(fig, msg) {\n",
       "    var format_dropdown = fig.format_dropdown;\n",
       "    var format = format_dropdown.options[format_dropdown.selectedIndex].value;\n",
       "    fig.ondownload(fig, format);\n",
       "}\n",
       "\n",
       "\n",
       "mpl.figure.prototype.handle_resize = function(fig, msg) {\n",
       "    var size = msg['size'];\n",
       "    if (size[0] != fig.canvas.width || size[1] != fig.canvas.height) {\n",
       "        fig._resize_canvas(size[0], size[1]);\n",
       "        fig.send_message(\"refresh\", {});\n",
       "    };\n",
       "}\n",
       "\n",
       "mpl.figure.prototype.handle_rubberband = function(fig, msg) {\n",
       "    var x0 = msg['x0'] / mpl.ratio;\n",
       "    var y0 = (fig.canvas.height - msg['y0']) / mpl.ratio;\n",
       "    var x1 = msg['x1'] / mpl.ratio;\n",
       "    var y1 = (fig.canvas.height - msg['y1']) / mpl.ratio;\n",
       "    x0 = Math.floor(x0) + 0.5;\n",
       "    y0 = Math.floor(y0) + 0.5;\n",
       "    x1 = Math.floor(x1) + 0.5;\n",
       "    y1 = Math.floor(y1) + 0.5;\n",
       "    var min_x = Math.min(x0, x1);\n",
       "    var min_y = Math.min(y0, y1);\n",
       "    var width = Math.abs(x1 - x0);\n",
       "    var height = Math.abs(y1 - y0);\n",
       "\n",
       "    fig.rubberband_context.clearRect(\n",
       "        0, 0, fig.canvas.width / mpl.ratio, fig.canvas.height / mpl.ratio);\n",
       "\n",
       "    fig.rubberband_context.strokeRect(min_x, min_y, width, height);\n",
       "}\n",
       "\n",
       "mpl.figure.prototype.handle_figure_label = function(fig, msg) {\n",
       "    // Updates the figure title.\n",
       "    fig.header.textContent = msg['label'];\n",
       "}\n",
       "\n",
       "mpl.figure.prototype.handle_cursor = function(fig, msg) {\n",
       "    var cursor = msg['cursor'];\n",
       "    switch(cursor)\n",
       "    {\n",
       "    case 0:\n",
       "        cursor = 'pointer';\n",
       "        break;\n",
       "    case 1:\n",
       "        cursor = 'default';\n",
       "        break;\n",
       "    case 2:\n",
       "        cursor = 'crosshair';\n",
       "        break;\n",
       "    case 3:\n",
       "        cursor = 'move';\n",
       "        break;\n",
       "    }\n",
       "    fig.rubberband_canvas.style.cursor = cursor;\n",
       "}\n",
       "\n",
       "mpl.figure.prototype.handle_message = function(fig, msg) {\n",
       "    fig.message.textContent = msg['message'];\n",
       "}\n",
       "\n",
       "mpl.figure.prototype.handle_draw = function(fig, msg) {\n",
       "    // Request the server to send over a new figure.\n",
       "    fig.send_draw_message();\n",
       "}\n",
       "\n",
       "mpl.figure.prototype.handle_image_mode = function(fig, msg) {\n",
       "    fig.image_mode = msg['mode'];\n",
       "}\n",
       "\n",
       "mpl.figure.prototype.updated_canvas_event = function() {\n",
       "    // Called whenever the canvas gets updated.\n",
       "    this.send_message(\"ack\", {});\n",
       "}\n",
       "\n",
       "// A function to construct a web socket function for onmessage handling.\n",
       "// Called in the figure constructor.\n",
       "mpl.figure.prototype._make_on_message_function = function(fig) {\n",
       "    return function socket_on_message(evt) {\n",
       "        if (evt.data instanceof Blob) {\n",
       "            /* FIXME: We get \"Resource interpreted as Image but\n",
       "             * transferred with MIME type text/plain:\" errors on\n",
       "             * Chrome.  But how to set the MIME type?  It doesn't seem\n",
       "             * to be part of the websocket stream */\n",
       "            evt.data.type = \"image/png\";\n",
       "\n",
       "            /* Free the memory for the previous frames */\n",
       "            if (fig.imageObj.src) {\n",
       "                (window.URL || window.webkitURL).revokeObjectURL(\n",
       "                    fig.imageObj.src);\n",
       "            }\n",
       "\n",
       "            fig.imageObj.src = (window.URL || window.webkitURL).createObjectURL(\n",
       "                evt.data);\n",
       "            fig.updated_canvas_event();\n",
       "            fig.waiting = false;\n",
       "            return;\n",
       "        }\n",
       "        else if (typeof evt.data === 'string' && evt.data.slice(0, 21) == \"data:image/png;base64\") {\n",
       "            fig.imageObj.src = evt.data;\n",
       "            fig.updated_canvas_event();\n",
       "            fig.waiting = false;\n",
       "            return;\n",
       "        }\n",
       "\n",
       "        var msg = JSON.parse(evt.data);\n",
       "        var msg_type = msg['type'];\n",
       "\n",
       "        // Call the  \"handle_{type}\" callback, which takes\n",
       "        // the figure and JSON message as its only arguments.\n",
       "        try {\n",
       "            var callback = fig[\"handle_\" + msg_type];\n",
       "        } catch (e) {\n",
       "            console.log(\"No handler for the '\" + msg_type + \"' message type: \", msg);\n",
       "            return;\n",
       "        }\n",
       "\n",
       "        if (callback) {\n",
       "            try {\n",
       "                // console.log(\"Handling '\" + msg_type + \"' message: \", msg);\n",
       "                callback(fig, msg);\n",
       "            } catch (e) {\n",
       "                console.log(\"Exception inside the 'handler_\" + msg_type + \"' callback:\", e, e.stack, msg);\n",
       "            }\n",
       "        }\n",
       "    };\n",
       "}\n",
       "\n",
       "// from http://stackoverflow.com/questions/1114465/getting-mouse-location-in-canvas\n",
       "mpl.findpos = function(e) {\n",
       "    //this section is from http://www.quirksmode.org/js/events_properties.html\n",
       "    var targ;\n",
       "    if (!e)\n",
       "        e = window.event;\n",
       "    if (e.target)\n",
       "        targ = e.target;\n",
       "    else if (e.srcElement)\n",
       "        targ = e.srcElement;\n",
       "    if (targ.nodeType == 3) // defeat Safari bug\n",
       "        targ = targ.parentNode;\n",
       "\n",
       "    // jQuery normalizes the pageX and pageY\n",
       "    // pageX,Y are the mouse positions relative to the document\n",
       "    // offset() returns the position of the element relative to the document\n",
       "    var x = e.pageX - $(targ).offset().left;\n",
       "    var y = e.pageY - $(targ).offset().top;\n",
       "\n",
       "    return {\"x\": x, \"y\": y};\n",
       "};\n",
       "\n",
       "/*\n",
       " * return a copy of an object with only non-object keys\n",
       " * we need this to avoid circular references\n",
       " * http://stackoverflow.com/a/24161582/3208463\n",
       " */\n",
       "function simpleKeys (original) {\n",
       "  return Object.keys(original).reduce(function (obj, key) {\n",
       "    if (typeof original[key] !== 'object')\n",
       "        obj[key] = original[key]\n",
       "    return obj;\n",
       "  }, {});\n",
       "}\n",
       "\n",
       "mpl.figure.prototype.mouse_event = function(event, name) {\n",
       "    var canvas_pos = mpl.findpos(event)\n",
       "\n",
       "    if (name === 'button_press')\n",
       "    {\n",
       "        this.canvas.focus();\n",
       "        this.canvas_div.focus();\n",
       "    }\n",
       "\n",
       "    var x = canvas_pos.x * mpl.ratio;\n",
       "    var y = canvas_pos.y * mpl.ratio;\n",
       "\n",
       "    this.send_message(name, {x: x, y: y, button: event.button,\n",
       "                             step: event.step,\n",
       "                             guiEvent: simpleKeys(event)});\n",
       "\n",
       "    /* This prevents the web browser from automatically changing to\n",
       "     * the text insertion cursor when the button is pressed.  We want\n",
       "     * to control all of the cursor setting manually through the\n",
       "     * 'cursor' event from matplotlib */\n",
       "    event.preventDefault();\n",
       "    return false;\n",
       "}\n",
       "\n",
       "mpl.figure.prototype._key_event_extra = function(event, name) {\n",
       "    // Handle any extra behaviour associated with a key event\n",
       "}\n",
       "\n",
       "mpl.figure.prototype.key_event = function(event, name) {\n",
       "\n",
       "    // Prevent repeat events\n",
       "    if (name == 'key_press')\n",
       "    {\n",
       "        if (event.which === this._key)\n",
       "            return;\n",
       "        else\n",
       "            this._key = event.which;\n",
       "    }\n",
       "    if (name == 'key_release')\n",
       "        this._key = null;\n",
       "\n",
       "    var value = '';\n",
       "    if (event.ctrlKey && event.which != 17)\n",
       "        value += \"ctrl+\";\n",
       "    if (event.altKey && event.which != 18)\n",
       "        value += \"alt+\";\n",
       "    if (event.shiftKey && event.which != 16)\n",
       "        value += \"shift+\";\n",
       "\n",
       "    value += 'k';\n",
       "    value += event.which.toString();\n",
       "\n",
       "    this._key_event_extra(event, name);\n",
       "\n",
       "    this.send_message(name, {key: value,\n",
       "                             guiEvent: simpleKeys(event)});\n",
       "    return false;\n",
       "}\n",
       "\n",
       "mpl.figure.prototype.toolbar_button_onclick = function(name) {\n",
       "    if (name == 'download') {\n",
       "        this.handle_save(this, null);\n",
       "    } else {\n",
       "        this.send_message(\"toolbar_button\", {name: name});\n",
       "    }\n",
       "};\n",
       "\n",
       "mpl.figure.prototype.toolbar_button_onmouseover = function(tooltip) {\n",
       "    this.message.textContent = tooltip;\n",
       "};\n",
       "mpl.toolbar_items = [[\"Home\", \"Reset original view\", \"fa fa-home icon-home\", \"home\"], [\"Back\", \"Back to previous view\", \"fa fa-arrow-left icon-arrow-left\", \"back\"], [\"Forward\", \"Forward to next view\", \"fa fa-arrow-right icon-arrow-right\", \"forward\"], [\"\", \"\", \"\", \"\"], [\"Pan\", \"Pan axes with left mouse, zoom with right\", \"fa fa-arrows icon-move\", \"pan\"], [\"Zoom\", \"Zoom to rectangle\", \"fa fa-square-o icon-check-empty\", \"zoom\"], [\"\", \"\", \"\", \"\"], [\"Download\", \"Download plot\", \"fa fa-floppy-o icon-save\", \"download\"]];\n",
       "\n",
       "mpl.extensions = [\"eps\", \"jpeg\", \"pdf\", \"png\", \"ps\", \"raw\", \"svg\", \"tif\"];\n",
       "\n",
       "mpl.default_extension = \"png\";var comm_websocket_adapter = function(comm) {\n",
       "    // Create a \"websocket\"-like object which calls the given IPython comm\n",
       "    // object with the appropriate methods. Currently this is a non binary\n",
       "    // socket, so there is still some room for performance tuning.\n",
       "    var ws = {};\n",
       "\n",
       "    ws.close = function() {\n",
       "        comm.close()\n",
       "    };\n",
       "    ws.send = function(m) {\n",
       "        //console.log('sending', m);\n",
       "        comm.send(m);\n",
       "    };\n",
       "    // Register the callback with on_msg.\n",
       "    comm.on_msg(function(msg) {\n",
       "        //console.log('receiving', msg['content']['data'], msg);\n",
       "        // Pass the mpl event to the overridden (by mpl) onmessage function.\n",
       "        ws.onmessage(msg['content']['data'])\n",
       "    });\n",
       "    return ws;\n",
       "}\n",
       "\n",
       "mpl.mpl_figure_comm = function(comm, msg) {\n",
       "    // This is the function which gets called when the mpl process\n",
       "    // starts-up an IPython Comm through the \"matplotlib\" channel.\n",
       "\n",
       "    var id = msg.content.data.id;\n",
       "    // Get hold of the div created by the display call when the Comm\n",
       "    // socket was opened in Python.\n",
       "    var element = $(\"#\" + id);\n",
       "    var ws_proxy = comm_websocket_adapter(comm)\n",
       "\n",
       "    function ondownload(figure, format) {\n",
       "        window.open(figure.imageObj.src);\n",
       "    }\n",
       "\n",
       "    var fig = new mpl.figure(id, ws_proxy,\n",
       "                           ondownload,\n",
       "                           element.get(0));\n",
       "\n",
       "    // Call onopen now - mpl needs it, as it is assuming we've passed it a real\n",
       "    // web socket which is closed, not our websocket->open comm proxy.\n",
       "    ws_proxy.onopen();\n",
       "\n",
       "    fig.parent_element = element.get(0);\n",
       "    fig.cell_info = mpl.find_output_cell(\"<div id='\" + id + \"'></div>\");\n",
       "    if (!fig.cell_info) {\n",
       "        console.error(\"Failed to find cell for figure\", id, fig);\n",
       "        return;\n",
       "    }\n",
       "\n",
       "    var output_index = fig.cell_info[2]\n",
       "    var cell = fig.cell_info[0];\n",
       "\n",
       "};\n",
       "\n",
       "mpl.figure.prototype.handle_close = function(fig, msg) {\n",
       "    var width = fig.canvas.width/mpl.ratio\n",
       "    fig.root.unbind('remove')\n",
       "\n",
       "    // Update the output cell to use the data from the current canvas.\n",
       "    fig.push_to_output();\n",
       "    var dataURL = fig.canvas.toDataURL();\n",
       "    // Re-enable the keyboard manager in IPython - without this line, in FF,\n",
       "    // the notebook keyboard shortcuts fail.\n",
       "    IPython.keyboard_manager.enable()\n",
       "    $(fig.parent_element).html('<img src=\"' + dataURL + '\" width=\"' + width + '\">');\n",
       "    fig.close_ws(fig, msg);\n",
       "}\n",
       "\n",
       "mpl.figure.prototype.close_ws = function(fig, msg){\n",
       "    fig.send_message('closing', msg);\n",
       "    // fig.ws.close()\n",
       "}\n",
       "\n",
       "mpl.figure.prototype.push_to_output = function(remove_interactive) {\n",
       "    // Turn the data on the canvas into data in the output cell.\n",
       "    var width = this.canvas.width/mpl.ratio\n",
       "    var dataURL = this.canvas.toDataURL();\n",
       "    this.cell_info[1]['text/html'] = '<img src=\"' + dataURL + '\" width=\"' + width + '\">';\n",
       "}\n",
       "\n",
       "mpl.figure.prototype.updated_canvas_event = function() {\n",
       "    // Tell IPython that the notebook contents must change.\n",
       "    IPython.notebook.set_dirty(true);\n",
       "    this.send_message(\"ack\", {});\n",
       "    var fig = this;\n",
       "    // Wait a second, then push the new image to the DOM so\n",
       "    // that it is saved nicely (might be nice to debounce this).\n",
       "    setTimeout(function () { fig.push_to_output() }, 1000);\n",
       "}\n",
       "\n",
       "mpl.figure.prototype._init_toolbar = function() {\n",
       "    var fig = this;\n",
       "\n",
       "    var nav_element = $('<div/>');\n",
       "    nav_element.attr('style', 'width: 100%');\n",
       "    this.root.append(nav_element);\n",
       "\n",
       "    // Define a callback function for later on.\n",
       "    function toolbar_event(event) {\n",
       "        return fig.toolbar_button_onclick(event['data']);\n",
       "    }\n",
       "    function toolbar_mouse_event(event) {\n",
       "        return fig.toolbar_button_onmouseover(event['data']);\n",
       "    }\n",
       "\n",
       "    for(var toolbar_ind in mpl.toolbar_items){\n",
       "        var name = mpl.toolbar_items[toolbar_ind][0];\n",
       "        var tooltip = mpl.toolbar_items[toolbar_ind][1];\n",
       "        var image = mpl.toolbar_items[toolbar_ind][2];\n",
       "        var method_name = mpl.toolbar_items[toolbar_ind][3];\n",
       "\n",
       "        if (!name) { continue; };\n",
       "\n",
       "        var button = $('<button class=\"btn btn-default\" href=\"#\" title=\"' + name + '\"><i class=\"fa ' + image + ' fa-lg\"></i></button>');\n",
       "        button.click(method_name, toolbar_event);\n",
       "        button.mouseover(tooltip, toolbar_mouse_event);\n",
       "        nav_element.append(button);\n",
       "    }\n",
       "\n",
       "    // Add the status bar.\n",
       "    var status_bar = $('<span class=\"mpl-message\" style=\"text-align:right; float: right;\"/>');\n",
       "    nav_element.append(status_bar);\n",
       "    this.message = status_bar[0];\n",
       "\n",
       "    // Add the close button to the window.\n",
       "    var buttongrp = $('<div class=\"btn-group inline pull-right\"></div>');\n",
       "    var button = $('<button class=\"btn btn-mini btn-primary\" href=\"#\" title=\"Stop Interaction\"><i class=\"fa fa-power-off icon-remove icon-large\"></i></button>');\n",
       "    button.click(function (evt) { fig.handle_close(fig, {}); } );\n",
       "    button.mouseover('Stop Interaction', toolbar_mouse_event);\n",
       "    buttongrp.append(button);\n",
       "    var titlebar = this.root.find($('.ui-dialog-titlebar'));\n",
       "    titlebar.prepend(buttongrp);\n",
       "}\n",
       "\n",
       "mpl.figure.prototype._root_extra_style = function(el){\n",
       "    var fig = this\n",
       "    el.on(\"remove\", function(){\n",
       "\tfig.close_ws(fig, {});\n",
       "    });\n",
       "}\n",
       "\n",
       "mpl.figure.prototype._canvas_extra_style = function(el){\n",
       "    // this is important to make the div 'focusable\n",
       "    el.attr('tabindex', 0)\n",
       "    // reach out to IPython and tell the keyboard manager to turn it's self\n",
       "    // off when our div gets focus\n",
       "\n",
       "    // location in version 3\n",
       "    if (IPython.notebook.keyboard_manager) {\n",
       "        IPython.notebook.keyboard_manager.register_events(el);\n",
       "    }\n",
       "    else {\n",
       "        // location in version 2\n",
       "        IPython.keyboard_manager.register_events(el);\n",
       "    }\n",
       "\n",
       "}\n",
       "\n",
       "mpl.figure.prototype._key_event_extra = function(event, name) {\n",
       "    var manager = IPython.notebook.keyboard_manager;\n",
       "    if (!manager)\n",
       "        manager = IPython.keyboard_manager;\n",
       "\n",
       "    // Check for shift+enter\n",
       "    if (event.shiftKey && event.which == 13) {\n",
       "        this.canvas_div.blur();\n",
       "        event.shiftKey = false;\n",
       "        // Send a \"J\" for go to next cell\n",
       "        event.which = 74;\n",
       "        event.keyCode = 74;\n",
       "        manager.command_mode();\n",
       "        manager.handle_keydown(event);\n",
       "    }\n",
       "}\n",
       "\n",
       "mpl.figure.prototype.handle_save = function(fig, msg) {\n",
       "    fig.ondownload(fig, null);\n",
       "}\n",
       "\n",
       "\n",
       "mpl.find_output_cell = function(html_output) {\n",
       "    // Return the cell and output element which can be found *uniquely* in the notebook.\n",
       "    // Note - this is a bit hacky, but it is done because the \"notebook_saving.Notebook\"\n",
       "    // IPython event is triggered only after the cells have been serialised, which for\n",
       "    // our purposes (turning an active figure into a static one), is too late.\n",
       "    var cells = IPython.notebook.get_cells();\n",
       "    var ncells = cells.length;\n",
       "    for (var i=0; i<ncells; i++) {\n",
       "        var cell = cells[i];\n",
       "        if (cell.cell_type === 'code'){\n",
       "            for (var j=0; j<cell.output_area.outputs.length; j++) {\n",
       "                var data = cell.output_area.outputs[j];\n",
       "                if (data.data) {\n",
       "                    // IPython >= 3 moved mimebundle to data attribute of output\n",
       "                    data = data.data;\n",
       "                }\n",
       "                if (data['text/html'] == html_output) {\n",
       "                    return [cell, data, j];\n",
       "                }\n",
       "            }\n",
       "        }\n",
       "    }\n",
       "}\n",
       "\n",
       "// Register the function which deals with the matplotlib target/channel.\n",
       "// The kernel may be null if the page has been refreshed.\n",
       "if (IPython.notebook.kernel != null) {\n",
       "    IPython.notebook.kernel.comm_manager.register_target('matplotlib', mpl.mpl_figure_comm);\n",
       "}\n"
      ],
      "text/plain": [
       "<IPython.core.display.Javascript object>"
      ]
     },
     "metadata": {},
     "output_type": "display_data"
    },
    {
     "data": {
      "text/html": [
       "<img src=\"data:image/png;base64,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\" width=\"640\">"
      ],
      "text/plain": [
       "<IPython.core.display.HTML object>"
      ]
     },
     "metadata": {},
     "output_type": "display_data"
    }
   ],
   "source": [
    "#%matplotlib notebook \n",
    "imagem = plt.imread(\"encrypt.bmp\")\n",
    "plt.imshow(imagem)\n",
    "plt.show()"
   ]
  },
  {
   "cell_type": "markdown",
   "metadata": {},
   "source": [
    "# de acordo com a deep web, o hacker conhecido como MIB assina seus hacks com um segredo."
   ]
  },
  {
   "cell_type": "markdown",
   "metadata": {
    "slideshow": {
     "slide_type": "slide"
    }
   },
   "source": [
    "# huuum. isso me parece **suspeito.**\n",
    "\n",
    "## * imagem com pixels estranhos.\n",
    "## * código secreto???\n",
    "# e agora?"
   ]
  },
  {
   "cell_type": "markdown",
   "metadata": {
    "slideshow": {
     "slide_type": "slide"
    }
   },
   "source": [
    "\n",
    "# **VERMELHO**  **252** **61**  **113** \n",
    "\n",
    "# **VERDE**  **2**  **178** **21**.\n",
    "\n",
    "# **AZUL**  **6** **1**  **21** \n",
    "\n",
    "# MIB."
   ]
  },
  {
   "cell_type": "markdown",
   "metadata": {
    "ExecuteTime": {
     "end_time": "2019-08-19T15:30:23.411902Z",
     "start_time": "2019-08-19T15:30:23.406846Z"
    },
    "slideshow": {
     "slide_type": "slide"
    }
   },
   "source": [
    "# RGB???\n",
    "# MIB ???\n",
    "\n",
    "\n",
    "# VALORES DE RGB?\n"
   ]
  },
  {
   "cell_type": "markdown",
   "metadata": {
    "ExecuteTime": {
     "end_time": "2019-08-19T15:33:05.558702Z",
     "start_time": "2019-08-19T15:33:05.553444Z"
    },
    "slideshow": {
     "slide_type": "slide"
    }
   },
   "source": [
    "# M =  **252** **61**  **113** \n",
    "\n",
    "# I =  **2**  **178** **21**.\n",
    "\n",
    "# B =  **6** **1**  **21** "
   ]
  },
  {
   "cell_type": "markdown",
   "metadata": {
    "slideshow": {
     "slide_type": "slide"
    }
   },
   "source": [
    "# Tabela ASCII.\n",
    "\n",
    "### M = 77 I = 73 B = 66\n",
    "\n",
    "# ALFABETO ASCII MAIUSCULO: DE 65 A 90\n",
    "### M = 77 - 65 , I = 73 - 65, B = 66 - 65\n",
    "### M = 12 I = 8, B = 1"
   ]
  },
  {
   "cell_type": "code",
   "execution_count": 3,
   "metadata": {
    "ExecuteTime": {
     "end_time": "2019-08-20T12:22:52.675420Z",
     "start_time": "2019-08-20T12:22:52.416809Z"
    },
    "slideshow": {
     "slide_type": "slide"
    }
   },
   "outputs": [
    {
     "data": {
      "text/plain": [
       "<matplotlib.image.AxesImage at 0x7f00f17a9810>"
      ]
     },
     "execution_count": 3,
     "metadata": {},
     "output_type": "execute_result"
    },
    {
     "data": {
      "image/png": "[encoded data removed]",
      "text/plain": [
       "<Figure size 432x288 with 1 Axes>"
      ]
     },
     "metadata": {
      "needs_background": "light"
     },
     "output_type": "display_data"
    }
   ],
   "source": [
    "%matplotlib inline\n",
    "\n",
    "A = np.array([[[252,61,113],[2,178,21],[6,1,21]],],dtype=np.int32)\n",
    "    \n",
    "plt.imshow(A)"
   ]
  },
  {
   "cell_type": "code",
   "execution_count": 4,
   "metadata": {
    "ExecuteTime": {
     "end_time": "2019-08-20T12:23:12.124384Z",
     "start_time": "2019-08-20T12:23:12.012380Z"
    },
    "code_folding": [],
    "slideshow": {
     "slide_type": "slide"
    }
   },
   "outputs": [
    {
     "data": {
      "application/vnd.jupyter.widget-view+json": {
       "model_id": "1658d935b7c04da28ecc194afed81ad2",
       "version_major": 2,
       "version_minor": 0
      },
      "text/plain": [
       "GridBox(children=(Label(value='$$A= \\\\begin{bmatrix}\\n  252. & 61. & 113.\\\\\\\\\\n  2. & 178. & 21.\\\\\\\\\\n  6. & 1…"
      ]
     },
     "metadata": {},
     "output_type": "display_data"
    }
   ],
   "source": [
    "A = np.array([[252,61,113],[2,178,21],[6,1,21]],dtype=np.float32)\n",
    "B = np.array([12,8,1], dtype=np.float32)\n",
    "chute = np.array([0.0,0.0,0.0],dtype=np.float32)\n",
    "\n",
    "\n",
    "items = [widgets.Label(math('A',A)), widgets.Label(math('B',B)), widgets.Label(math('x(0)',chute)) ]\n",
    "widgets.GridBox(items, layout=widgets.Layout(grid_template_columns=\"repeat(3, 300px)\"))\n"
   ]
  },
  {
   "cell_type": "markdown",
   "metadata": {
    "slideshow": {
     "slide_type": "slide"
    }
   },
   "source": [
    "# vamos tentar resolver as equações?"
   ]
  },
  {
   "cell_type": "code",
   "execution_count": 5,
   "metadata": {
    "ExecuteTime": {
     "end_time": "2019-08-20T12:25:11.948290Z",
     "start_time": "2019-08-20T12:25:11.903590Z"
    },
    "code_folding": [],
    "scrolled": false,
    "slideshow": {
     "slide_type": "slide"
    }
   },
   "outputs": [
    {
     "data": {
      "text/html": [
       "$$ x^{(k=0)} = \\begin{bmatrix}\n",
       "  0. & 0. & 0.\\\\\n",
       "\\end{bmatrix} $$ $$ x^{(k=1)} = \\begin{bmatrix}\n",
       "  0.04761905 & 0.04494382 & 0.04761905\\\\\n",
       "\\end{bmatrix} $$ $$ x^{(k=2)} = \\begin{bmatrix}\n",
       "  0.0153868 & 0.0387908 & 0.03187342\\\\\n",
       "\\end{bmatrix} $$ $$ x^{(k=3)} = \\begin{bmatrix}\n",
       "  0.02393676 & 0.04101059 & 0.04137564\\\\\n",
       "\\end{bmatrix} $$ $$ x^{(k=4)} = \\begin{bmatrix}\n",
       "  0.01913852 & 0.03979347 & 0.03882709\\\\\n",
       "\\end{bmatrix} $$ $$ x^{(k=5)} = \\begin{bmatrix}\n",
       "  0.02057594 & 0.04014806 & 0.04025597\\\\\n",
       "\\end{bmatrix} $$ $$ x^{(k=6)} = \\begin{bmatrix}\n",
       "  0.01984938 & 0.03996333 & 0.03982839\\\\\n",
       "\\end{bmatrix} $$ $$ x^{(k=7)} = \\begin{bmatrix}\n",
       "  0.02008583 & 0.04002194 & 0.04004478\\\\\n",
       "\\end{bmatrix} $$ $$ x^{(k=8)} = \\begin{bmatrix}\n",
       "  0.01997461 & 0.03999375 & 0.03997443\\\\\n",
       "\\end{bmatrix} $$ $$ x^{(k=9)} = \\begin{bmatrix}\n",
       "  0.02001298 & 0.0400033 & 0.04000755\\\\\n",
       "\\end{bmatrix} $$ $$ x^{(k=10)} = \\begin{bmatrix}\n",
       "  0.01999581 & 0.03999896 & 0.03999614\\\\\n",
       "\\end{bmatrix} $$ $$ x^{(k=11)} = \\begin{bmatrix}\n",
       "  0.02000198 & 0.0400005 & 0.04000125\\\\\n",
       "\\end{bmatrix} $$ $$ x^{(k=12)} = \\begin{bmatrix}\n",
       "  0.01999932 & 0.03999983 & 0.03999941\\\\\n",
       "\\end{bmatrix} $$ $$ x^{(k=13)} = \\begin{bmatrix}\n",
       "  0.02000031 & 0.04000008 & 0.0400002\\\\\n",
       "\\end{bmatrix} $$ $$ x^{(k=14)} = \\begin{bmatrix}\n",
       "  0.01999989 & 0.03999997 & 0.03999991\\\\\n",
       "\\end{bmatrix} $$ $$ x^{(k=15)} = \\begin{bmatrix}\n",
       "  0.02000005 & 0.04000001 & 0.04000003\\\\\n",
       "\\end{bmatrix} $$ $$ x^{(k=16)} = \\begin{bmatrix}\n",
       "  0.01999998 & 0.04 & 0.03999999\\\\\n",
       "\\end{bmatrix} $$ $$ x^{(k=17)} = \\begin{bmatrix}\n",
       "  0.02000001 & 0.04 & 0.04000001\\\\\n",
       "\\end{bmatrix} $$ $$ x^{(k=18)} = \\begin{bmatrix}\n",
       "  0.02 & 0.04 & 0.04\\\\\n",
       "\\end{bmatrix} $$ "
      ],
      "text/plain": [
       "<IPython.core.display.HTML object>"
      ]
     },
     "metadata": {},
     "output_type": "display_data"
    }
   ],
   "source": [
    "def jacobi(a,b,x,t=50, tol=1e-8):\n",
    "    x = x.copy(); x0 = x.copy(); n=len(x); reslist = []\n",
    "    m = 0; mathtx = mat_print(m,x); m += 1\n",
    "    while m < t:\n",
    "        q = np.zeros(x.shape)\n",
    "        for i in range(n):\n",
    "            s=0\n",
    "            for j in range(n):\n",
    "                if i!=j:\n",
    "                    s += a[i,j] *x[j]\n",
    "            q[i] = ((b[i]-s)/a[i,i])\n",
    "        x = np.array(q)\n",
    "        if all([(False if abs(x0[k] - x[k]) > tol else True) for k in range(len(x))]):                 \n",
    "            break\n",
    "        mathtx += mat_print(m,q); reslist.append(q)\n",
    "        x0 = np.array(q)\n",
    "        m += 1\n",
    "    return mathtx, reslist\n",
    "\n",
    "res_j,l_j = jacobi(A,B,chute, t=20); display(HTML(res_j))"
   ]
  },
  {
   "cell_type": "code",
   "execution_count": 6,
   "metadata": {
    "ExecuteTime": {
     "end_time": "2019-08-20T12:25:57.810007Z",
     "start_time": "2019-08-20T12:25:57.771928Z"
    },
    "code_folding": [],
    "hide_input": false,
    "scrolled": false,
    "slideshow": {
     "slide_type": "slide"
    }
   },
   "outputs": [
    {
     "data": {
      "text/html": [
       "$$ x^{(k=0)} = \\begin{bmatrix}\n",
       "  0. & 0. & 0.\\\\\n",
       "\\end{bmatrix} $$ $$ x^{(k=1)} = \\begin{bmatrix}\n",
       "  0.04761905 & 0.04440878 & 0.0318989\\\\\n",
       "\\end{bmatrix} $$ $$ x^{(k=2)} = \\begin{bmatrix}\n",
       "  0.02256543 & 0.04092692 & 0.03922288\\\\\n",
       "\\end{bmatrix} $$ $$ x^{(k=3)} = \\begin{bmatrix}\n",
       "  0.0201241 & 0.04009029 & 0.03996024\\\\\n",
       "\\end{bmatrix} $$ $$ x^{(k=4)} = \\begin{bmatrix}\n",
       "  0.01999597 & 0.04000473 & 0.04000093\\\\\n",
       "\\end{bmatrix} $$ $$ x^{(k=5)} = \\begin{bmatrix}\n",
       "  0.01999844 & 0.03999991 & 0.04000045\\\\\n",
       "\\end{bmatrix} $$ $$ x^{(k=6)} = \\begin{bmatrix}\n",
       "  0.01999982 & 0.03999995 & 0.04000005\\\\\n",
       "\\end{bmatrix} $$ $$ x^{(k=7)} = \\begin{bmatrix}\n",
       "  0.01999999 & 0.04 & 0.04\\\\\n",
       "\\end{bmatrix} $$ $$ x^{(k=8)} = \\begin{bmatrix}\n",
       "  0.02 & 0.04 & 0.04\\\\\n",
       "\\end{bmatrix} $$ "
      ],
      "text/plain": [
       "<IPython.core.display.HTML object>"
      ]
     },
     "metadata": {},
     "output_type": "display_data"
    }
   ],
   "source": [
    "def seidel(a,b,x,t=50, tol=1e-8):\n",
    "    x = x.copy(); x0 = x.copy(); n=len(x); reslist = []\n",
    "    m = 0; mathtx = mat_print(m,x) ; m += 1\n",
    "    \n",
    "    while m < t:\n",
    "        for i in range(n):\n",
    "            s=0\n",
    "            for j in range(n):\n",
    "                if i!=j:\n",
    "                    s += a[i,j] *x[j]\n",
    "            x[i] = (b[i]-s)/a[i,i]\n",
    "            \n",
    "        if all([(False if abs(x0[k] - x[k]) > tol else True) for k in range(len(x))]): break\n",
    "        mathtx += mat_print(m,x); reslist.append(x.copy())\n",
    "        \n",
    "        x0 = x.copy()\n",
    "        m += 1\n",
    "    return mathtx, reslist\n",
    "\n",
    "res_s, l_s = seidel(A,B,chute, t=200); display(HTML(res_s))"
   ]
  },
  {
   "cell_type": "code",
   "execution_count": 8,
   "metadata": {
    "ExecuteTime": {
     "end_time": "2019-08-20T12:28:01.544186Z",
     "start_time": "2019-08-20T12:28:01.393619Z"
    },
    "code_folding": [],
    "slideshow": {
     "slide_type": "slide"
    }
   },
   "outputs": [
    {
     "data": {
      "application/vnd.jupyter.widget-view+json": {
       "model_id": "1f32ae78857c439980c40e92986d2127",
       "version_major": 2,
       "version_minor": 0
      },
      "text/plain": [
       "GridBox(children=(Label(value='$$A U B= \\\\begin{bmatrix}\\n  252. & 61. & 113. & 12.\\\\\\\\\\n  2. & 178. & 21. & 8…"
      ]
     },
     "metadata": {},
     "output_type": "display_data"
    }
   ],
   "source": [
    "def gauss_elim(a,b):\n",
    "    np.set_printoptions(suppress=True)\n",
    "    res = []; n=len(b)\n",
    "    c=np.concatenate([a,b],axis=1) \n",
    "    res.append(widgets.Label(math('A U B',c)))\n",
    "    \n",
    "    for e in range(n):\n",
    "        t=c[e,e]\n",
    "        for j in range(e,n+1):\n",
    "            c[e,j]=c[e,j]/t \n",
    "        \n",
    "        res.append(widgets.Label(math('A(nrm)',c)))\n",
    "        for i in range(e+1,n):\n",
    "            t=c[i,e]\n",
    "            for j in range(e,n+1):\n",
    "                c[i,j]=c[i,j]-t*c[e,j]\n",
    "            \n",
    "            res.append(widgets.Label(math('A(red)', c)))\n",
    "    x=np.zeros([n,1]) \n",
    "    x[n-1]=c[n-1,n]\n",
    "    \n",
    "    for i in range(n-2,-1,-1):\n",
    "        s=0\n",
    "        for j in range(i+1,n):\n",
    "            s=s+c[i,j]*x[j]\n",
    "        x[i]=c[i,n]-s\n",
    "    res.append(widgets.Label(math('A(fin)',x)))\n",
    "    return x, res\n",
    "\n",
    "\n",
    "A = np.array([[252,61,113],[2,178,21],[6,1,21]],dtype=np.float32)\n",
    "B = np.array([[12],[8],[1]], dtype=np.float32)\n",
    "\n",
    "_,a = gauss_elim(A,B)\n",
    "\n",
    "widgets.GridBox(a, layout=widgets.Layout(grid_template_columns=\"repeat(1, 600px)\"))\n"
   ]
  },
  {
   "cell_type": "code",
   "execution_count": 9,
   "metadata": {
    "ExecuteTime": {
     "end_time": "2019-08-20T12:28:31.923702Z",
     "start_time": "2019-08-20T12:28:31.841178Z"
    },
    "slideshow": {
     "slide_type": "slide"
    }
   },
   "outputs": [
    {
     "data": {
      "application/vnd.jupyter.widget-view+json": {
       "model_id": "c037c05e6b6f4436ac5a27db8daf2289",
       "version_major": 2,
       "version_minor": 0
      },
      "text/plain": [
       "GridBox(children=(Label(value='$$ x^{(k=0)} = \\\\begin{bmatrix}\\n  0. & 0. & 0.\\\\\\\\\\n\\\\end{bmatrix} $$ $$ x^{(k…"
      ]
     },
     "metadata": {},
     "output_type": "display_data"
    }
   ],
   "source": [
    "widgets.GridBox([widgets.Label(res_j), widgets.Label(res_s)], \\\n",
    "                layout=widgets.Layout(grid_template_columns=\"repeat(2, 400px)\"))"
   ]
  },
  {
   "cell_type": "markdown",
   "metadata": {
    "slideshow": {
     "slide_type": "slide"
    }
   },
   "source": [
    "# 0.02 0.04 0.04\n",
    "# e daí?\n"
   ]
  },
  {
   "cell_type": "markdown",
   "metadata": {
    "slideshow": {
     "slide_type": "slide"
    }
   },
   "source": [
    "# o que temos?\n",
    "* os valores de RGB que formam a letra M,I e B.\n",
    "* a equação geral utilizada para formarem os valores.\n",
    "\n",
    "# agora finalmente podemos tentar decodificar a imagem"
   ]
  },
  {
   "cell_type": "code",
   "execution_count": null,
   "metadata": {
    "ExecuteTime": {
     "end_time": "2019-08-20T12:05:54.413508Z",
     "start_time": "2019-08-20T12:05:54.103810Z"
    },
    "scrolled": true,
    "slideshow": {
     "slide_type": "slide"
    }
   },
   "outputs": [],
   "source": [
    "#%matplotlib notebook \n",
    "imagem = plt.imread(\"encrypt.bmp\")\n",
    "plt.imshow(imagem)\n",
    "plt.show()"
   ]
  },
  {
   "cell_type": "code",
   "execution_count": 10,
   "metadata": {
    "ExecuteTime": {
     "end_time": "2019-08-20T12:30:57.946730Z",
     "start_time": "2019-08-20T12:30:57.656151Z"
    },
    "scrolled": false,
    "slideshow": {
     "slide_type": "slide"
    }
   },
   "outputs": [
    {
     "name": "stdout",
     "output_type": "stream",
     "text": [
      "A VERDADE ESTA MAIS PERTO DO QUE VOCE IMAGINA   MAS NO MOMENTO A PRINCESA SE ENCONTRA EM OUTRO CASTELO                                                                  AAAAAAAAAAAAAAAAAAAAAAAAAAAAAAAAAAAAAAAAAAAAAAAA                                                                                AAAAAAAAAAAAAAAAAAAAAAAAAAAAAAAAAAAAAAAAAAAAAAAA                                                                                AAAAAAAAAAAAAAAAAAAAAAAAAAAAAAAAAAAAAAAAAAAAAAAA                                                                                AAAAAAAAAAAAAAAAAAAAAAAAAAAAAAAAAAAAAAAAAAAAAAAA                                                                                AAAAAAAAAAAAAAAAAAAAAAAAAAAAAAAAAAAAAAAAAAAAAAAA                                                                                AAAAAAAAAAAAAAAAAAAAAAAAAAAAAAAAAAAAAAAAAAAAAAAA                                                                                AAAAAAAAAAAAAAAAAAAAAAAAAAAAAAAAAAAAAAAAAAAAAAAA                                                                AAAAAAAAAAAAAAAAAAAAAAAA        KKKKKKKKKKKKKKKK        AAAAAAAAAAAAAAAAAAAAAAAA                                                AAAAAAAAAAAAAAAAAAAAAAAA        KKKKKKKKKKKKKKKK        AAAAAAAAAAAAAAAAAAAAAAAA                                                AAAAAAAAAAAAAAAAAAAAAAAA        KKKKKKKKKKKKKKKK        AAAAAAAAAAAAAAAAAAAAAAAA                                                AAAAAAAAAAAAAAAAAAAAAAAA        KKKKKKKKKKKKKKKK        AAAAAAAAAAAAAAAAAAAAAAAA                                                AAAAAAAAAAAAAAAAAAAAAAAA        KKKKKKKKKKKKKKKK        AAAAAAAAAAAAAAAAAAAAAAAA                                                AAAAAAAAAAAAAAAAAAAAAAAA        KKKKKKKKKKKKKKKK        AAAAAAAAAAAAAAAAAAAAAAAA                                                AAAAAAAAAAAAAAAAAAAAAAAA        KKKKKKKKKKKKKKKK        AAAAAAAAAAAAAAAAAAAAAAAA                                                AAAAAAAAAAAAAAAAAAAAAAAA        KKKKKKKKKKKKKKKK        AAAAAAAAAAAAAAAAAAAAAAAA                                        AAAAAAAAAAAAAAAA                        KKKKKKKKKKKKKKKK                        AAAAAAAAAAAAAAAA                                AAAAAAAAAAAAAAAA                        KKKKKKKKKKKKKKKK                        AAAAAAAAAAAAAAAA                                AAAAAAAAAAAAAAAA                        KKKKKKKKKKKKKKKK                        AAAAAAAAAAAAAAAA                                AAAAAAAAAAAAAAAA                        KKKKKKKKKKKKKKKK                        AAAAAAAAAAAAAAAA                                AAAAAAAAAAAAAAAA                        KKKKKKKKKKKKKKKK                        AAAAAAAAAAAAAAAA                                AAAAAAAAAAAAAAAA                        KKKKKKKKKKKKKKKK                        AAAAAAAAAAAAAAAA                                AAAAAAAAAAAAAAAA                        KKKKKKKKKKKKKKKK                        AAAAAAAAAAAAAAAA                                AAAAAAAAAAAAAAAA                        KKKKKKKKKKKKKKKK                        AAAAAAAAAAAAAAAA                        AAAAAAAAAAAAAAAAKKKKKKKK                KKKKKKKKKKKKKKKKKKKKKKKKKKKKKKKK                KKKKKKKKAAAAAAAAAAAAAAAA                AAAAAAAAAAAAAAAAKKKKKKKK                KKKKKKKKKKKKKKKKKKKKKKKKKKKKKKKK                KKKKKKKKAAAAAAAAAAAAAAAA                AAAAAAAAAAAAAAAAKKKKKKKK                KKKKKKKKKKKKKKKKKKKKKKKKKKKKKKKK                KKKKKKKKAAAAAAAAAAAAAAAA                AAAAAAAAAAAAAAAAKKKKKKKK                KKKKKKKKKKKKKKKKKKKKKKKKKKKKKKKK                KKKKKKKKAAAAAAAAAAAAAAAA                AAAAAAAAAAAAAAAAKKKKKKKK                KKKKKKKKKKKKKKKKKKKKKKKKKKKKKKKK                KKKKKKKKAAAAAAAAAAAAAAAA                AAAAAAAAAAAAAAAAKKKKKKKK                KKKKKKKKKKKKKKKKKKKKKKKKKKKKKKKK                KKKKKKKKAAAAAAAAAAAAAAAA                AAAAAAAAAAAAAAAAKKKKKKKK                KKKKKKKKKKKKKKKKKKKKKKKKKKKKKKKK                KKKKKKKKAAAAAAAAAAAAAAAA                AAAAAAAAAAAAAAAAKKKKKKKK                KKKKKKKKKKKKKKKKKKKKKKKKKKKKKKKK                KKKKKKKKAAAAAAAAAAAAAAAA                AAAAAAAA        KKKKKKKKKKKKKKKKKKKKKKKKKKKKKKKKKKKKKKKKKKKKKKKKKKKKKKKKKKKKKKKKKKKKKKKKKKKKKKKK        AAAAAAAA                AAAAAAAA        KKKKKKKKKKKKKKKKKKKKKKKKKKKKKKKKKKKKKKKKKKKKKKKKKKKKKKKKKKKKKKKKKKKKKKKKKKKKKKKK        AAAAAAAA                AAAAAAAA        KKKKKKKKKKKKKKKKKKKKKKKKKKKKKKKKKKKKKKKKKKKKKKKKKKKKKKKKKKKKKKKKKKKKKKKKKKKKKKKK        AAAAAAAA                AAAAAAAA        KKKKKKKKKKKKKKKKKKKKKKKKKKKKKKKKKKKKKKKKKKKKKKKKKKKKKKKKKKKKKKKKKKKKKKKKKKKKKKKK        AAAAAAAA                AAAAAAAA        KKKKKKKKKKKKKKKKKKKKKKKKKKKKKKKKKKKKKKKKKKKKKKKKKKKKKKKKKKKKKKKKKKKKKKKKKKKKKKKK        AAAAAAAA                AAAAAAAA        KKKKKKKKKKKKKKKKKKKKKKKKKKKKKKKKKKKKKKKKKKKKKKKKKKKKKKKKKKKKKKKKKKKKKKKKKKKKKKKK        AAAAAAAA                AAAAAAAA        KKKKKKKKKKKKKKKKKKKKKKKKKKKKKKKKKKKKKKKKKKKKKKKKKKKKKKKKKKKKKKKKKKKKKKKKKKKKKKKK        AAAAAAAA                AAAAAAAA        KKKKKKKKKKKKKKKKKKKKKKKKKKKKKKKKKKKKKKKKKKKKKKKKKKKKKKKKKKKKKKKKKKKKKKKKKKKKKKKK        AAAAAAAA        AAAAAAAAAAAAAAAA                KKKKKKKKKKKKKKKK                                KKKKKKKKKKKKKKKK                AAAAAAAAAAAAAAAAAAAAAAAAAAAAAAAA                KKKKKKKKKKKKKKKK                                KKKKKKKKKKKKKKKK                AAAAAAAAAAAAAAAAAAAAAAAAAAAAAAAA                KKKKKKKKKKKKKKKK                                KKKKKKKKKKKKKKKK                AAAAAAAAAAAAAAAAAAAAAAAAAAAAAAAA                KKKKKKKKKKKKKKKK                                KKKKKKKKKKKKKKKK                AAAAAAAAAAAAAAAAAAAAAAAAAAAAAAAA                KKKKKKKKKKKKKKKK                                KKKKKKKKKKKKKKKK                AAAAAAAAAAAAAAAAAAAAAAAAAAAAAAAA                KKKKKKKKKKKKKKKK                                KKKKKKKKKKKKKKKK                AAAAAAAAAAAAAAAAAAAAAAAAAAAAAAAA                KKKKKKKKKKKKKKKK                                KKKKKKKKKKKKKKKK                AAAAAAAAAAAAAAAAAAAAAAAAAAAAAAAA                KKKKKKKKKKKKKKKK                                KKKKKKKKKKKKKKKK                AAAAAAAAAAAAAAAAAAAAAAAA                        KKKKKKKK                                                KKKKKKKK                        AAAAAAAAAAAAAAAA                        KKKKKKKK                                                KKKKKKKK                        AAAAAAAAAAAAAAAA                        KKKKKKKK                                                KKKKKKKK                        AAAAAAAAAAAAAAAA                        KKKKKKKK                                                KKKKKKKK                        AAAAAAAAAAAAAAAA                        KKKKKKKK                                                KKKKKKKK                        AAAAAAAAAAAAAAAA                        KKKKKKKK                                                KKKKKKKK                        AAAAAAAAAAAAAAAA                        KKKKKKKK                                                KKKKKKKK                        AAAAAAAAAAAAAAAA                        KKKKKKKK                                                KKKKKKKK                        AAAAAAAAAAAAAAAA                        KKKKKKKK                                                KKKKKKKK                        AAAAAAAAAAAAAAAA                        KKKKKKKK                                                KKKKKKKK                        AAAAAAAAAAAAAAAA                        KKKKKKKK                                                KKKKKKKK                        AAAAAAAAAAAAAAAA                        KKKKKKKK                                                KKKKKKKK                        AAAAAAAAAAAAAAAA                        KKKKKKKK                                                KKKKKKKK                        AAAAAAAAAAAAAAAA                        KKKKKKKK                                                KKKKKKKK                        AAAAAAAAAAAAAAAA                        KKKKKKKK                                                KKKKKKKK                        AAAAAAAAAAAAAAAA                        KKKKKKKK                                                KKKKKKKK                        AAAAAAAAAAAAAAAA                KKKKKKKKKKKKKKKK                                                KKKKKKKKKKKKKKKK                AAAAAAAAAAAAAAAA                KKKKKKKKKKKKKKKK                                                KKKKKKKKKKKKKKKK                AAAAAAAAAAAAAAAA                KKKKKKKKKKKKKKKK                                                KKKKKKKKKKKKKKKK                AAAAAAAAAAAAAAAA                KKKKKKKKKKKKKKKK                                                KKKKKKKKKKKKKKKK                AAAAAAAAAAAAAAAA                KKKKKKKKKKKKKKKK                                                KKKKKKKKKKKKKKKK                AAAAAAAAAAAAAAAA                KKKKKKKKKKKKKKKK                                                KKKKKKKKKKKKKKKK                AAAAAAAAAAAAAAAA                KKKKKKKKKKKKKKKK                                                KKKKKKKKKKKKKKKK                AAAAAAAAAAAAAAAA                KKKKKKKKKKKKKKKK                                                KKKKKKKKKKKKKKKK                AAAAAAAAAAAAAAAAKKKKKKKKKKKKKKKKKKKKKKKKKKKKKKKKKKKKKKKK                                KKKKKKKKKKKKKKKKKKKKKKKKKKKKKKKKKKKKKKKKAAAAAAAAAAAAAAAAKKKKKKKKKKKKKKKKKKKKKKKKKKKKKKKKKKKKKKKK                                KKKKKKKKKKKKKKKKKKKKKKKKKKKKKKKKKKKKKKKKAAAAAAAAAAAAAAAAKKKKKKKKKKKKKKKKKKKKKKKKKKKKKKKKKKKKKKKK                                KKKKKKKKKKKKKKKKKKKKKKKKKKKKKKKKKKKKKKKKAAAAAAAAAAAAAAAAKKKKKKKKKKKKKKKKKKKKKKKKKKKKKKKKKKKKKKKK                                KKKKKKKKKKKKKKKKKKKKKKKKKKKKKKKKKKKKKKKKAAAAAAAAAAAAAAAAKKKKKKKKKKKKKKKKKKKKKKKKKKKKKKKKKKKKKKKK                                KKKKKKKKKKKKKKKKKKKKKKKKKKKKKKKKKKKKKKKKAAAAAAAAAAAAAAAAKKKKKKKKKKKKKKKKKKKKKKKKKKKKKKKKKKKKKKKK                                KKKKKKKKKKKKKKKKKKKKKKKKKKKKKKKKKKKKKKKKAAAAAAAAAAAAAAAAKKKKKKKKKKKKKKKKKKKKKKKKKKKKKKKKKKKKKKKK                                KKKKKKKKKKKKKKKKKKKKKKKKKKKKKKKKKKKKKKKKAAAAAAAAAAAAAAAAKKKKKKKKKKKKKKKKKKKKKKKKKKKKKKKKKKKKKKKK                                KKKKKKKKKKKKKKKKKKKKKKKKKKKKKKKKKKKKKKKKAAAAAAAAAAAAAAAAKKKKKKKKKKKKKKKKAAAAAAAAAAAAAAAAAAAAAAAAAAAAAAAAAAAAAAAAAAAAAAAAAAAAAAAAAAAAAAAAAAAAAAAAAAAAAAAAKKKKKKKKKKKKKKKKAAAAAAAAAAAAAAAAKKKKKKKKKKKKKKKKAAAAAAAAAAAAAAAAAAAAAAAAAAAAAAAAAAAAAAAAAAAAAAAAAAAAAAAAAAAAAAAAAAAAAAAAAAAAAAAAKKKKKKKKKKKKKKKKAAAAAAAAAAAAAAAAKKKKKKKKKKKKKKKKAAAAAAAAAAAAAAAAAAAAAAAAAAAAAAAAAAAAAAAAAAAAAAAAAAAAAAAAAAAAAAAAAAAAAAAAAAAAAAAAKKKKKKKKKKKKKKKKAAAAAAAAAAAAAAAAKKKKKKKKKKKKKKKKAAAAAAAAAAAAAAAAAAAAAAAAAAAAAAAAAAAAAAAAAAAAAAAAAAAAAAAAAAAAAAAAAAAAAAAAAAAAAAAAKKKKKKKKKKKKKKKKAAAAAAAAAAAAAAAAKKKKKKKKKKKKKKKKAAAAAAAAAAAAAAAAAAAAAAAAAAAAAAAAAAAAAAAAAAAAAAAAAAAAAAAAAAAAAAAAAAAAAAAAAAAAAAAAKKKKKKKKKKKKKKKKAAAAAAAAAAAAAAAAKKKKKKKKKKKKKKKKAAAAAAAAAAAAAAAAAAAAAAAAAAAAAAAAAAAAAAAAAAAAAAAAAAAAAAAAAAAAAAAAAAAAAAAAAAAAAAAAKKKKKKKKKKKKKKKKAAAAAAAAAAAAAAAAKKKKKKKKKKKKKKKKAAAAAAAAAAAAAAAAAAAAAAAAAAAAAAAAAAAAAAAAAAAAAAAAAAAAAAAAAAAAAAAAAAAAAAAAAAAAAAAAKKKKKKKKKKKKKKKKAAAAAAAAAAAAAAAAKKKKKKKKKKKKKKKKAAAAAAAAAAAAAAAAAAAAAAAAAAAAAAAAAAAAAAAAAAAAAAAAAAAAAAAAAAAAAAAAAAAAAAAAAAAAAAAAKKKKKKKKKKKKKKKKAAAAAAAAAAAAAAAAAAAAAAAAAAAAAAAAAAAAAAAA                AAAAAAAA                AAAAAAAA                AAAAAAAAAAAAAAAAAAAAAAAAAAAAAAAAAAAAAAAAAAAAAAAAAAAAAAAAAAAAAAAA                AAAAAAAA                AAAAAAAA                AAAAAAAAAAAAAAAAAAAAAAAAAAAAAAAAAAAAAAAAAAAAAAAAAAAAAAAAAAAAAAAA                AAAAAAAA                AAAAAAAA                AAAAAAAAAAAAAAAAAAAAAAAAAAAAAAAAAAAAAAAAAAAAAAAAAAAAAAAAAAAAAAAA                AAAAAAAA                AAAAAAAA                AAAAAAAAAAAAAAAAAAAAAAAAAAAAAAAAAAAAAAAAAAAAAAAAAAAAAAAAAAAAAAAA                AAAAAAAA                AAAAAAAA                AAAAAAAAAAAAAAAAAAAAAAAAAAAAAAAAAAAAAAAAAAAAAAAAAAAAAAAAAAAAAAAA                AAAAAAAA                AAAAAAAA                AAAAAAAAAAAAAAAAAAAAAAAAAAAAAAAAAAAAAAAAAAAAAAAAAAAAAAAAAAAAAAAA                AAAAAAAA                AAAAAAAA                AAAAAAAAAAAAAAAAAAAAAAAAAAAAAAAAAAAAAAAAAAAAAAAAAAAAAAAAAAAAAAAA                AAAAAAAA                AAAAAAAA                AAAAAAAAAAAAAAAAAAAAAAAAAAAAAAAA        AAAAAAAAAAAAAAAA                        AAAAAAAA                AAAAAAAA                        AAAAAAAAAAAAAAAA                AAAAAAAAAAAAAAAA                        AAAAAAAA                AAAAAAAA                        AAAAAAAAAAAAAAAA                AAAAAAAAAAAAAAAA                        AAAAAAAA                AAAAAAAA                        AAAAAAAAAAAAAAAA                AAAAAAAAAAAAAAAA                        AAAAAAAA                AAAAAAAA                        AAAAAAAAAAAAAAAA                AAAAAAAAAAAAAAAA                        AAAAAAAA                AAAAAAAA                        AAAAAAAAAAAAAAAA                AAAAAAAAAAAAAAAA                        AAAAAAAA                AAAAAAAA                        AAAAAAAAAAAAAAAA                AAAAAAAAAAAAAAAA                        AAAAAAAA                AAAAAAAA                        AAAAAAAAAAAAAAAA                AAAAAAAAAAAAAAAA                        AAAAAAAA                AAAAAAAA                        AAAAAAAAAAAAAAAA                        AAAAAAAA                                                                                AAAAAAAA                                AAAAAAAA                                                                                AAAAAAAA                                AAAAAAAA                                                                                AAAAAAAA                                AAAAAAAA                                                                                AAAAAAAA                                AAAAAAAA                                                                                AAAAAAAA                                AAAAAAAA                                                                                AAAAAAAA                                AAAAAAAA                                                                                AAAAAAAA                                AAAAAAAA                                                                                AAAAAAAA                                AAAAAAAAAAAAAAAA                                                                AAAAAAAAAAAAAAAA                                AAAAAAAAAAAAAAAA                                                                AAAAAAAAAAAAAAAA                                AAAAAAAAAAAAAAAA                                                                AAAAAAAAAAAAAAAA                                AAAAAAAAAAAAAAAA                                                                AAAAAAAAAAAAAAAA                                AAAAAAAAAAAAAAAA                                                                AAAAAAAAAAAAAAAA                                AAAAAAAAAAAAAAAA                                                                AAAAAAAAAAAAAAAA                                AAAAAAAAAAAAAAAA                                                                AAAAAAAAAAAAAAAA                                AAAAAAAAAAAAAAAA                                                                AAAAAAAAAAAAAAAA                                        AAAAAAAAAAAAAAAAAAAAAAAAAAAAAAAAAAAAAAAAAAAAAAAAAAAAAAAAAAAAAAAAAAAAAAAAAAAAAAAA                                                AAAAAAAAAAAAAAAAAAAAAAAAAAAAAAAAAAAAAAAAAAAAAAAAAAAAAAAAAAAAAAAAAAAAAAAAAAAAAAAA                                                AAAAAAAAAAAAAAAAAAAAAAAAAAAAAAAAAAAAAAAAAAAAAAAAAAAAAAAAAAAAAAAAAAAAAAAAAAAAAAAA                                                AAAAAAAAAAAAAAAAAAAAAAAAAAAAAAAAAAAAAAAAAAAAAAAAAAAAAAAAAAAAAAAAAAAAAAAAAAAAAAAA                                                AAAAAAAAAAAAAAAAAAAAAAAAAAAAAAAAAAAAAAAAAAAAAAAAAAAAAAAAAAAAAAAAAAAAAAAAAAAAAAAA                                                AAAAAAAAAAAAAAAAAAAAAAAAAAAAAAAAAAAAAAAAAAAAAAAAAAAAAAAAAAAAAAAAAAAAAAAAAAAAAAAA                                                AAAAAAAAAAAAAAAAAAAAAAAAAAAAAAAAAAAAAAAAAAAAAAAAAAAAAAAAAAAAAAAAAAAAAAAAAAAAAAAA                                                AAAAAAAAAAAAAAAAAAAAAAAAAAAAAAAAAAAAAAAAAAAAAAAAAAAAAAAAAAAAAAAAAAAAAAAAAAAAAAAA                        \n"
     ]
    }
   ],
   "source": [
    "def decrypt(img, x1, x2, x3):\n",
    "  \"\"\" DESCRIPTOGRAFAR A IMAGEM \"\"\"\n",
    "  text = \"\"\n",
    "  for y in range(img.shape[0]):\n",
    "    for x in range(img.shape[1]):\n",
    "      a = img[y,x]\n",
    "      if np.all(np.equal(a,255)): text += ' '\n",
    "      else: text += chr(int(round((a[0] * x1 + a[1]  * x2 + a[2] * x3) + 65)))\n",
    "\n",
    "  return text\n",
    "\n",
    "x1 = 0.02; x2 = 0.04; x3 = 0.04\n",
    "\n",
    "print(decrypt(imagem,x1,x2,x3))"
   ]
  },
  {
   "cell_type": "markdown",
   "metadata": {
    "slideshow": {
     "slide_type": "slide"
    }
   },
   "source": [
    "# FIM.\n",
    "\n",
    "# dúvidas?"
   ]
  },
  {
   "cell_type": "markdown",
   "metadata": {
    "ExecuteTime": {
     "end_time": "2019-08-19T18:02:53.503907Z",
     "start_time": "2019-08-19T18:02:53.495993Z"
    }
   },
   "source": [
    "# continua.. (no próximo seminário. rs)\n"
   ]
  }
 ],
 "metadata": {
  "celltoolbar": "Slideshow",
  "kernelspec": {
   "display_name": "Python 3",
   "language": "python",
   "name": "python3"
  },
  "language_info": {
   "codemirror_mode": {
    "name": "ipython",
    "version": 3
   },
   "file_extension": ".py",
   "mimetype": "text/x-python",
   "name": "python",
   "nbconvert_exporter": "python",
   "pygments_lexer": "ipython3",
   "version": "3.7.4"
  },
  "varInspector": {
   "cols": {
    "lenName": 16,
    "lenType": 16,
    "lenVar": 40
   },
   "kernels_config": {
    "python": {
     "delete_cmd_postfix": "",
     "delete_cmd_prefix": "del ",
     "library": "var_list.py",
     "varRefreshCmd": "print(var_dic_list())"
    },
    "r": {
     "delete_cmd_postfix": ") ",
     "delete_cmd_prefix": "rm(",
     "library": "var_list.r",
     "varRefreshCmd": "cat(var_dic_list()) "
    }
   },
   "types_to_exclude": [
    "module",
    "function",
    "builtin_function_or_method",
    "instance",
    "_Feature"
   ],
   "window_display": false
  }
 },
 "nbformat": 4,
 "nbformat_minor": 2
}
