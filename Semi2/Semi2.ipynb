{
 "cells": [
  {
   "cell_type": "code",
   "execution_count": 1,
   "metadata": {
    "ExecuteTime": {
     "end_time": "2019-08-20T13:06:51.661012Z",
     "start_time": "2019-08-20T13:06:51.314344Z"
    },
    "slideshow": {
     "slide_type": "slide"
    }
   },
   "outputs": [
    {
     "data": {
      "text/html": [
       "<head>\n",
       "          <script type=\"text/x-mathjax-config\">\n",
       "            MathJax.Hub.Config({tex2jax: {inlineMath: [['$','$'], ['\\\\(','\\\\)']]}});\n",
       "          </script>\n",
       "          <script type=\"text/javascript\" async\n",
       "            src=\"https://example.com/mathjax/MathJax.js?config=TeX-AMS_CHTML\">\n",
       "          </script>\n",
       "          </head>\n",
       "          "
      ],
      "text/plain": [
       "<IPython.core.display.HTML object>"
      ]
     },
     "metadata": {},
     "output_type": "display_data"
    },
    {
     "data": {
      "text/html": [
       "\n",
       "<style>\n",
       "    div#notebook-container    { width: 100%; }\n",
       "    div#menubar-container     { width: 65%; }\n",
       "    div#maintoolbar-container { width: 99%; }\n",
       "    body {\n",
       "    font-family: \"Comic Sans MS\", cursive, sans-serif;\n",
       "}\n",
       "\n",
       "\n",
       "</style>\n"
      ],
      "text/plain": [
       "<IPython.core.display.HTML object>"
      ]
     },
     "metadata": {},
     "output_type": "display_data"
    }
   ],
   "source": [
    "# boilerplate\n",
    "%matplotlib notebook\n",
    "\n",
    "import matplotlib.pyplot as plt\n",
    "import numpy as np\n",
    "from pretty import mat_print, mathjax,math\n",
    "from IPython.display import display, HTML\n",
    "\n",
    "import ipywidgets as widgets\n",
    "from mpl_toolkits.mplot3d import Axes3D\n",
    "\n",
    "display(HTML(mathjax))\n",
    "\n",
    "\n",
    "display(HTML(data=\"\"\"\n",
    "<style>\n",
    "    div#notebook-container    { width: 100%; }\n",
    "    div#menubar-container     { width: 65%; }\n",
    "    div#maintoolbar-container { width: 99%; }\n",
    "    body {\n",
    "    font-family: \"Comic Sans MS\", cursive, sans-serif;\n",
    "}\n",
    "\n",
    "\n",
    "</style>\n",
    "\"\"\"))"
   ]
  },
  {
   "cell_type": "markdown",
   "metadata": {
    "hide_input": false,
    "slideshow": {
     "slide_type": "slide"
    }
   },
   "source": [
    "# Projeto de Numérico\n",
    "## Alunos: Fábio Melo e Thuane França"
   ]
  },
  {
   "cell_type": "markdown",
   "metadata": {
    "slideshow": {
     "slide_type": "slide"
    }
   },
   "source": [
    "# O Projeto de hoje é:\n",
    "## fomos hackeados, não vai ter projeto. :("
   ]
  },
  {
   "cell_type": "markdown",
   "metadata": {
    "slideshow": {
     "slide_type": "slide"
    }
   },
   "source": [
    "![alt text](files/hacks1.png \"Logo Title Text 1\")\n"
   ]
  },
  {
   "cell_type": "markdown",
   "metadata": {
    "slideshow": {
     "slide_type": "slide"
    }
   },
   "source": [
    "# MIB\n",
    "\n",
    "O SOL HOJE ESTÁ TÃO **VERMELHO** QUE PARECE ATÉ **252** MIL GRAUS KELVIN, JÁ QUE ESSE VERÃO DE **61** SEMANAS NÃO ACABA EM **113** TONS DE COR.\n",
    "\n",
    "VOCÊ É **VERDE** MEU AMIGO, NÃO COMPILOU NEM **2** BINÁRIOS NAS MAIS DE **178** OPORTUNIDADES QUE TEVE, E AINDA LIGA DDD **21**.\n",
    "\n",
    "E NÃO TEM **AZUL** QUE SE SALVE PORQUE EU TÔ ATŔAS DE **6** PROXIES E USANDO **1** VPN COM **21** ROTAS DIFERENTES.\n",
    "\n",
    "## MAN IN BLACK..\n",
    "# MIB."
   ]
  },
  {
   "cell_type": "code",
   "execution_count": 2,
   "metadata": {
    "ExecuteTime": {
     "end_time": "2019-08-20T13:14:05.756386Z",
     "start_time": "2019-08-20T13:14:05.631583Z"
    },
    "slideshow": {
     "slide_type": "slide"
    }
   },
   "outputs": [
    {
     "data": {
      "application/javascript": [
       "/* Put everything inside the global mpl namespace */\n",
       "window.mpl = {};\n",
       "\n",
       "\n",
       "mpl.get_websocket_type = function() {\n",
       "    if (typeof(WebSocket) !== 'undefined') {\n",
       "        return WebSocket;\n",
       "    } else if (typeof(MozWebSocket) !== 'undefined') {\n",
       "        return MozWebSocket;\n",
       "    } else {\n",
       "        alert('Your browser does not have WebSocket support. ' +\n",
       "              'Please try Chrome, Safari or Firefox ≥ 6. ' +\n",
       "              'Firefox 4 and 5 are also supported but you ' +\n",
       "              'have to enable WebSockets in about:config.');\n",
       "    };\n",
       "}\n",
       "\n",
       "mpl.figure = function(figure_id, websocket, ondownload, parent_element) {\n",
       "    this.id = figure_id;\n",
       "\n",
       "    this.ws = websocket;\n",
       "\n",
       "    this.supports_binary = (this.ws.binaryType != undefined);\n",
       "\n",
       "    if (!this.supports_binary) {\n",
       "        var warnings = document.getElementById(\"mpl-warnings\");\n",
       "        if (warnings) {\n",
       "            warnings.style.display = 'block';\n",
       "            warnings.textContent = (\n",
       "                \"This browser does not support binary websocket messages. \" +\n",
       "                    \"Performance may be slow.\");\n",
       "        }\n",
       "    }\n",
       "\n",
       "    this.imageObj = new Image();\n",
       "\n",
       "    this.context = undefined;\n",
       "    this.message = undefined;\n",
       "    this.canvas = undefined;\n",
       "    this.rubberband_canvas = undefined;\n",
       "    this.rubberband_context = undefined;\n",
       "    this.format_dropdown = undefined;\n",
       "\n",
       "    this.image_mode = 'full';\n",
       "\n",
       "    this.root = $('<div/>');\n",
       "    this._root_extra_style(this.root)\n",
       "    this.root.attr('style', 'display: inline-block');\n",
       "\n",
       "    $(parent_element).append(this.root);\n",
       "\n",
       "    this._init_header(this);\n",
       "    this._init_canvas(this);\n",
       "    this._init_toolbar(this);\n",
       "\n",
       "    var fig = this;\n",
       "\n",
       "    this.waiting = false;\n",
       "\n",
       "    this.ws.onopen =  function () {\n",
       "            fig.send_message(\"supports_binary\", {value: fig.supports_binary});\n",
       "            fig.send_message(\"send_image_mode\", {});\n",
       "            if (mpl.ratio != 1) {\n",
       "                fig.send_message(\"set_dpi_ratio\", {'dpi_ratio': mpl.ratio});\n",
       "            }\n",
       "            fig.send_message(\"refresh\", {});\n",
       "        }\n",
       "\n",
       "    this.imageObj.onload = function() {\n",
       "            if (fig.image_mode == 'full') {\n",
       "                // Full images could contain transparency (where diff images\n",
       "                // almost always do), so we need to clear the canvas so that\n",
       "                // there is no ghosting.\n",
       "                fig.context.clearRect(0, 0, fig.canvas.width, fig.canvas.height);\n",
       "            }\n",
       "            fig.context.drawImage(fig.imageObj, 0, 0);\n",
       "        };\n",
       "\n",
       "    this.imageObj.onunload = function() {\n",
       "        fig.ws.close();\n",
       "    }\n",
       "\n",
       "    this.ws.onmessage = this._make_on_message_function(this);\n",
       "\n",
       "    this.ondownload = ondownload;\n",
       "}\n",
       "\n",
       "mpl.figure.prototype._init_header = function() {\n",
       "    var titlebar = $(\n",
       "        '<div class=\"ui-dialog-titlebar ui-widget-header ui-corner-all ' +\n",
       "        'ui-helper-clearfix\"/>');\n",
       "    var titletext = $(\n",
       "        '<div class=\"ui-dialog-title\" style=\"width: 100%; ' +\n",
       "        'text-align: center; padding: 3px;\"/>');\n",
       "    titlebar.append(titletext)\n",
       "    this.root.append(titlebar);\n",
       "    this.header = titletext[0];\n",
       "}\n",
       "\n",
       "\n",
       "\n",
       "mpl.figure.prototype._canvas_extra_style = function(canvas_div) {\n",
       "\n",
       "}\n",
       "\n",
       "\n",
       "mpl.figure.prototype._root_extra_style = function(canvas_div) {\n",
       "\n",
       "}\n",
       "\n",
       "mpl.figure.prototype._init_canvas = function() {\n",
       "    var fig = this;\n",
       "\n",
       "    var canvas_div = $('<div/>');\n",
       "\n",
       "    canvas_div.attr('style', 'position: relative; clear: both; outline: 0');\n",
       "\n",
       "    function canvas_keyboard_event(event) {\n",
       "        return fig.key_event(event, event['data']);\n",
       "    }\n",
       "\n",
       "    canvas_div.keydown('key_press', canvas_keyboard_event);\n",
       "    canvas_div.keyup('key_release', canvas_keyboard_event);\n",
       "    this.canvas_div = canvas_div\n",
       "    this._canvas_extra_style(canvas_div)\n",
       "    this.root.append(canvas_div);\n",
       "\n",
       "    var canvas = $('<canvas/>');\n",
       "    canvas.addClass('mpl-canvas');\n",
       "    canvas.attr('style', \"left: 0; top: 0; z-index: 0; outline: 0\")\n",
       "\n",
       "    this.canvas = canvas[0];\n",
       "    this.context = canvas[0].getContext(\"2d\");\n",
       "\n",
       "    var backingStore = this.context.backingStorePixelRatio ||\n",
       "\tthis.context.webkitBackingStorePixelRatio ||\n",
       "\tthis.context.mozBackingStorePixelRatio ||\n",
       "\tthis.context.msBackingStorePixelRatio ||\n",
       "\tthis.context.oBackingStorePixelRatio ||\n",
       "\tthis.context.backingStorePixelRatio || 1;\n",
       "\n",
       "    mpl.ratio = (window.devicePixelRatio || 1) / backingStore;\n",
       "\n",
       "    var rubberband = $('<canvas/>');\n",
       "    rubberband.attr('style', \"position: absolute; left: 0; top: 0; z-index: 1;\")\n",
       "\n",
       "    var pass_mouse_events = true;\n",
       "\n",
       "    canvas_div.resizable({\n",
       "        start: function(event, ui) {\n",
       "            pass_mouse_events = false;\n",
       "        },\n",
       "        resize: function(event, ui) {\n",
       "            fig.request_resize(ui.size.width, ui.size.height);\n",
       "        },\n",
       "        stop: function(event, ui) {\n",
       "            pass_mouse_events = true;\n",
       "            fig.request_resize(ui.size.width, ui.size.height);\n",
       "        },\n",
       "    });\n",
       "\n",
       "    function mouse_event_fn(event) {\n",
       "        if (pass_mouse_events)\n",
       "            return fig.mouse_event(event, event['data']);\n",
       "    }\n",
       "\n",
       "    rubberband.mousedown('button_press', mouse_event_fn);\n",
       "    rubberband.mouseup('button_release', mouse_event_fn);\n",
       "    // Throttle sequential mouse events to 1 every 20ms.\n",
       "    rubberband.mousemove('motion_notify', mouse_event_fn);\n",
       "\n",
       "    rubberband.mouseenter('figure_enter', mouse_event_fn);\n",
       "    rubberband.mouseleave('figure_leave', mouse_event_fn);\n",
       "\n",
       "    canvas_div.on(\"wheel\", function (event) {\n",
       "        event = event.originalEvent;\n",
       "        event['data'] = 'scroll'\n",
       "        if (event.deltaY < 0) {\n",
       "            event.step = 1;\n",
       "        } else {\n",
       "            event.step = -1;\n",
       "        }\n",
       "        mouse_event_fn(event);\n",
       "    });\n",
       "\n",
       "    canvas_div.append(canvas);\n",
       "    canvas_div.append(rubberband);\n",
       "\n",
       "    this.rubberband = rubberband;\n",
       "    this.rubberband_canvas = rubberband[0];\n",
       "    this.rubberband_context = rubberband[0].getContext(\"2d\");\n",
       "    this.rubberband_context.strokeStyle = \"#000000\";\n",
       "\n",
       "    this._resize_canvas = function(width, height) {\n",
       "        // Keep the size of the canvas, canvas container, and rubber band\n",
       "        // canvas in synch.\n",
       "        canvas_div.css('width', width)\n",
       "        canvas_div.css('height', height)\n",
       "\n",
       "        canvas.attr('width', width * mpl.ratio);\n",
       "        canvas.attr('height', height * mpl.ratio);\n",
       "        canvas.attr('style', 'width: ' + width + 'px; height: ' + height + 'px;');\n",
       "\n",
       "        rubberband.attr('width', width);\n",
       "        rubberband.attr('height', height);\n",
       "    }\n",
       "\n",
       "    // Set the figure to an initial 600x600px, this will subsequently be updated\n",
       "    // upon first draw.\n",
       "    this._resize_canvas(600, 600);\n",
       "\n",
       "    // Disable right mouse context menu.\n",
       "    $(this.rubberband_canvas).bind(\"contextmenu\",function(e){\n",
       "        return false;\n",
       "    });\n",
       "\n",
       "    function set_focus () {\n",
       "        canvas.focus();\n",
       "        canvas_div.focus();\n",
       "    }\n",
       "\n",
       "    window.setTimeout(set_focus, 100);\n",
       "}\n",
       "\n",
       "mpl.figure.prototype._init_toolbar = function() {\n",
       "    var fig = this;\n",
       "\n",
       "    var nav_element = $('<div/>');\n",
       "    nav_element.attr('style', 'width: 100%');\n",
       "    this.root.append(nav_element);\n",
       "\n",
       "    // Define a callback function for later on.\n",
       "    function toolbar_event(event) {\n",
       "        return fig.toolbar_button_onclick(event['data']);\n",
       "    }\n",
       "    function toolbar_mouse_event(event) {\n",
       "        return fig.toolbar_button_onmouseover(event['data']);\n",
       "    }\n",
       "\n",
       "    for(var toolbar_ind in mpl.toolbar_items) {\n",
       "        var name = mpl.toolbar_items[toolbar_ind][0];\n",
       "        var tooltip = mpl.toolbar_items[toolbar_ind][1];\n",
       "        var image = mpl.toolbar_items[toolbar_ind][2];\n",
       "        var method_name = mpl.toolbar_items[toolbar_ind][3];\n",
       "\n",
       "        if (!name) {\n",
       "            // put a spacer in here.\n",
       "            continue;\n",
       "        }\n",
       "        var button = $('<button/>');\n",
       "        button.addClass('ui-button ui-widget ui-state-default ui-corner-all ' +\n",
       "                        'ui-button-icon-only');\n",
       "        button.attr('role', 'button');\n",
       "        button.attr('aria-disabled', 'false');\n",
       "        button.click(method_name, toolbar_event);\n",
       "        button.mouseover(tooltip, toolbar_mouse_event);\n",
       "\n",
       "        var icon_img = $('<span/>');\n",
       "        icon_img.addClass('ui-button-icon-primary ui-icon');\n",
       "        icon_img.addClass(image);\n",
       "        icon_img.addClass('ui-corner-all');\n",
       "\n",
       "        var tooltip_span = $('<span/>');\n",
       "        tooltip_span.addClass('ui-button-text');\n",
       "        tooltip_span.html(tooltip);\n",
       "\n",
       "        button.append(icon_img);\n",
       "        button.append(tooltip_span);\n",
       "\n",
       "        nav_element.append(button);\n",
       "    }\n",
       "\n",
       "    var fmt_picker_span = $('<span/>');\n",
       "\n",
       "    var fmt_picker = $('<select/>');\n",
       "    fmt_picker.addClass('mpl-toolbar-option ui-widget ui-widget-content');\n",
       "    fmt_picker_span.append(fmt_picker);\n",
       "    nav_element.append(fmt_picker_span);\n",
       "    this.format_dropdown = fmt_picker[0];\n",
       "\n",
       "    for (var ind in mpl.extensions) {\n",
       "        var fmt = mpl.extensions[ind];\n",
       "        var option = $(\n",
       "            '<option/>', {selected: fmt === mpl.default_extension}).html(fmt);\n",
       "        fmt_picker.append(option);\n",
       "    }\n",
       "\n",
       "    // Add hover states to the ui-buttons\n",
       "    $( \".ui-button\" ).hover(\n",
       "        function() { $(this).addClass(\"ui-state-hover\");},\n",
       "        function() { $(this).removeClass(\"ui-state-hover\");}\n",
       "    );\n",
       "\n",
       "    var status_bar = $('<span class=\"mpl-message\"/>');\n",
       "    nav_element.append(status_bar);\n",
       "    this.message = status_bar[0];\n",
       "}\n",
       "\n",
       "mpl.figure.prototype.request_resize = function(x_pixels, y_pixels) {\n",
       "    // Request matplotlib to resize the figure. Matplotlib will then trigger a resize in the client,\n",
       "    // which will in turn request a refresh of the image.\n",
       "    this.send_message('resize', {'width': x_pixels, 'height': y_pixels});\n",
       "}\n",
       "\n",
       "mpl.figure.prototype.send_message = function(type, properties) {\n",
       "    properties['type'] = type;\n",
       "    properties['figure_id'] = this.id;\n",
       "    this.ws.send(JSON.stringify(properties));\n",
       "}\n",
       "\n",
       "mpl.figure.prototype.send_draw_message = function() {\n",
       "    if (!this.waiting) {\n",
       "        this.waiting = true;\n",
       "        this.ws.send(JSON.stringify({type: \"draw\", figure_id: this.id}));\n",
       "    }\n",
       "}\n",
       "\n",
       "\n",
       "mpl.figure.prototype.handle_save = function(fig, msg) {\n",
       "    var format_dropdown = fig.format_dropdown;\n",
       "    var format = format_dropdown.options[format_dropdown.selectedIndex].value;\n",
       "    fig.ondownload(fig, format);\n",
       "}\n",
       "\n",
       "\n",
       "mpl.figure.prototype.handle_resize = function(fig, msg) {\n",
       "    var size = msg['size'];\n",
       "    if (size[0] != fig.canvas.width || size[1] != fig.canvas.height) {\n",
       "        fig._resize_canvas(size[0], size[1]);\n",
       "        fig.send_message(\"refresh\", {});\n",
       "    };\n",
       "}\n",
       "\n",
       "mpl.figure.prototype.handle_rubberband = function(fig, msg) {\n",
       "    var x0 = msg['x0'] / mpl.ratio;\n",
       "    var y0 = (fig.canvas.height - msg['y0']) / mpl.ratio;\n",
       "    var x1 = msg['x1'] / mpl.ratio;\n",
       "    var y1 = (fig.canvas.height - msg['y1']) / mpl.ratio;\n",
       "    x0 = Math.floor(x0) + 0.5;\n",
       "    y0 = Math.floor(y0) + 0.5;\n",
       "    x1 = Math.floor(x1) + 0.5;\n",
       "    y1 = Math.floor(y1) + 0.5;\n",
       "    var min_x = Math.min(x0, x1);\n",
       "    var min_y = Math.min(y0, y1);\n",
       "    var width = Math.abs(x1 - x0);\n",
       "    var height = Math.abs(y1 - y0);\n",
       "\n",
       "    fig.rubberband_context.clearRect(\n",
       "        0, 0, fig.canvas.width / mpl.ratio, fig.canvas.height / mpl.ratio);\n",
       "\n",
       "    fig.rubberband_context.strokeRect(min_x, min_y, width, height);\n",
       "}\n",
       "\n",
       "mpl.figure.prototype.handle_figure_label = function(fig, msg) {\n",
       "    // Updates the figure title.\n",
       "    fig.header.textContent = msg['label'];\n",
       "}\n",
       "\n",
       "mpl.figure.prototype.handle_cursor = function(fig, msg) {\n",
       "    var cursor = msg['cursor'];\n",
       "    switch(cursor)\n",
       "    {\n",
       "    case 0:\n",
       "        cursor = 'pointer';\n",
       "        break;\n",
       "    case 1:\n",
       "        cursor = 'default';\n",
       "        break;\n",
       "    case 2:\n",
       "        cursor = 'crosshair';\n",
       "        break;\n",
       "    case 3:\n",
       "        cursor = 'move';\n",
       "        break;\n",
       "    }\n",
       "    fig.rubberband_canvas.style.cursor = cursor;\n",
       "}\n",
       "\n",
       "mpl.figure.prototype.handle_message = function(fig, msg) {\n",
       "    fig.message.textContent = msg['message'];\n",
       "}\n",
       "\n",
       "mpl.figure.prototype.handle_draw = function(fig, msg) {\n",
       "    // Request the server to send over a new figure.\n",
       "    fig.send_draw_message();\n",
       "}\n",
       "\n",
       "mpl.figure.prototype.handle_image_mode = function(fig, msg) {\n",
       "    fig.image_mode = msg['mode'];\n",
       "}\n",
       "\n",
       "mpl.figure.prototype.updated_canvas_event = function() {\n",
       "    // Called whenever the canvas gets updated.\n",
       "    this.send_message(\"ack\", {});\n",
       "}\n",
       "\n",
       "// A function to construct a web socket function for onmessage handling.\n",
       "// Called in the figure constructor.\n",
       "mpl.figure.prototype._make_on_message_function = function(fig) {\n",
       "    return function socket_on_message(evt) {\n",
       "        if (evt.data instanceof Blob) {\n",
       "            /* FIXME: We get \"Resource interpreted as Image but\n",
       "             * transferred with MIME type text/plain:\" errors on\n",
       "             * Chrome.  But how to set the MIME type?  It doesn't seem\n",
       "             * to be part of the websocket stream */\n",
       "            evt.data.type = \"image/png\";\n",
       "\n",
       "            /* Free the memory for the previous frames */\n",
       "            if (fig.imageObj.src) {\n",
       "                (window.URL || window.webkitURL).revokeObjectURL(\n",
       "                    fig.imageObj.src);\n",
       "            }\n",
       "\n",
       "            fig.imageObj.src = (window.URL || window.webkitURL).createObjectURL(\n",
       "                evt.data);\n",
       "            fig.updated_canvas_event();\n",
       "            fig.waiting = false;\n",
       "            return;\n",
       "        }\n",
       "        else if (typeof evt.data === 'string' && evt.data.slice(0, 21) == \"data:image/png;base64\") {\n",
       "            fig.imageObj.src = evt.data;\n",
       "            fig.updated_canvas_event();\n",
       "            fig.waiting = false;\n",
       "            return;\n",
       "        }\n",
       "\n",
       "        var msg = JSON.parse(evt.data);\n",
       "        var msg_type = msg['type'];\n",
       "\n",
       "        // Call the  \"handle_{type}\" callback, which takes\n",
       "        // the figure and JSON message as its only arguments.\n",
       "        try {\n",
       "            var callback = fig[\"handle_\" + msg_type];\n",
       "        } catch (e) {\n",
       "            console.log(\"No handler for the '\" + msg_type + \"' message type: \", msg);\n",
       "            return;\n",
       "        }\n",
       "\n",
       "        if (callback) {\n",
       "            try {\n",
       "                // console.log(\"Handling '\" + msg_type + \"' message: \", msg);\n",
       "                callback(fig, msg);\n",
       "            } catch (e) {\n",
       "                console.log(\"Exception inside the 'handler_\" + msg_type + \"' callback:\", e, e.stack, msg);\n",
       "            }\n",
       "        }\n",
       "    };\n",
       "}\n",
       "\n",
       "// from http://stackoverflow.com/questions/1114465/getting-mouse-location-in-canvas\n",
       "mpl.findpos = function(e) {\n",
       "    //this section is from http://www.quirksmode.org/js/events_properties.html\n",
       "    var targ;\n",
       "    if (!e)\n",
       "        e = window.event;\n",
       "    if (e.target)\n",
       "        targ = e.target;\n",
       "    else if (e.srcElement)\n",
       "        targ = e.srcElement;\n",
       "    if (targ.nodeType == 3) // defeat Safari bug\n",
       "        targ = targ.parentNode;\n",
       "\n",
       "    // jQuery normalizes the pageX and pageY\n",
       "    // pageX,Y are the mouse positions relative to the document\n",
       "    // offset() returns the position of the element relative to the document\n",
       "    var x = e.pageX - $(targ).offset().left;\n",
       "    var y = e.pageY - $(targ).offset().top;\n",
       "\n",
       "    return {\"x\": x, \"y\": y};\n",
       "};\n",
       "\n",
       "/*\n",
       " * return a copy of an object with only non-object keys\n",
       " * we need this to avoid circular references\n",
       " * http://stackoverflow.com/a/24161582/3208463\n",
       " */\n",
       "function simpleKeys (original) {\n",
       "  return Object.keys(original).reduce(function (obj, key) {\n",
       "    if (typeof original[key] !== 'object')\n",
       "        obj[key] = original[key]\n",
       "    return obj;\n",
       "  }, {});\n",
       "}\n",
       "\n",
       "mpl.figure.prototype.mouse_event = function(event, name) {\n",
       "    var canvas_pos = mpl.findpos(event)\n",
       "\n",
       "    if (name === 'button_press')\n",
       "    {\n",
       "        this.canvas.focus();\n",
       "        this.canvas_div.focus();\n",
       "    }\n",
       "\n",
       "    var x = canvas_pos.x * mpl.ratio;\n",
       "    var y = canvas_pos.y * mpl.ratio;\n",
       "\n",
       "    this.send_message(name, {x: x, y: y, button: event.button,\n",
       "                             step: event.step,\n",
       "                             guiEvent: simpleKeys(event)});\n",
       "\n",
       "    /* This prevents the web browser from automatically changing to\n",
       "     * the text insertion cursor when the button is pressed.  We want\n",
       "     * to control all of the cursor setting manually through the\n",
       "     * 'cursor' event from matplotlib */\n",
       "    event.preventDefault();\n",
       "    return false;\n",
       "}\n",
       "\n",
       "mpl.figure.prototype._key_event_extra = function(event, name) {\n",
       "    // Handle any extra behaviour associated with a key event\n",
       "}\n",
       "\n",
       "mpl.figure.prototype.key_event = function(event, name) {\n",
       "\n",
       "    // Prevent repeat events\n",
       "    if (name == 'key_press')\n",
       "    {\n",
       "        if (event.which === this._key)\n",
       "            return;\n",
       "        else\n",
       "            this._key = event.which;\n",
       "    }\n",
       "    if (name == 'key_release')\n",
       "        this._key = null;\n",
       "\n",
       "    var value = '';\n",
       "    if (event.ctrlKey && event.which != 17)\n",
       "        value += \"ctrl+\";\n",
       "    if (event.altKey && event.which != 18)\n",
       "        value += \"alt+\";\n",
       "    if (event.shiftKey && event.which != 16)\n",
       "        value += \"shift+\";\n",
       "\n",
       "    value += 'k';\n",
       "    value += event.which.toString();\n",
       "\n",
       "    this._key_event_extra(event, name);\n",
       "\n",
       "    this.send_message(name, {key: value,\n",
       "                             guiEvent: simpleKeys(event)});\n",
       "    return false;\n",
       "}\n",
       "\n",
       "mpl.figure.prototype.toolbar_button_onclick = function(name) {\n",
       "    if (name == 'download') {\n",
       "        this.handle_save(this, null);\n",
       "    } else {\n",
       "        this.send_message(\"toolbar_button\", {name: name});\n",
       "    }\n",
       "};\n",
       "\n",
       "mpl.figure.prototype.toolbar_button_onmouseover = function(tooltip) {\n",
       "    this.message.textContent = tooltip;\n",
       "};\n",
       "mpl.toolbar_items = [[\"Home\", \"Reset original view\", \"fa fa-home icon-home\", \"home\"], [\"Back\", \"Back to previous view\", \"fa fa-arrow-left icon-arrow-left\", \"back\"], [\"Forward\", \"Forward to next view\", \"fa fa-arrow-right icon-arrow-right\", \"forward\"], [\"\", \"\", \"\", \"\"], [\"Pan\", \"Pan axes with left mouse, zoom with right\", \"fa fa-arrows icon-move\", \"pan\"], [\"Zoom\", \"Zoom to rectangle\", \"fa fa-square-o icon-check-empty\", \"zoom\"], [\"\", \"\", \"\", \"\"], [\"Download\", \"Download plot\", \"fa fa-floppy-o icon-save\", \"download\"]];\n",
       "\n",
       "mpl.extensions = [\"eps\", \"jpeg\", \"pdf\", \"png\", \"ps\", \"raw\", \"svg\", \"tif\"];\n",
       "\n",
       "mpl.default_extension = \"png\";var comm_websocket_adapter = function(comm) {\n",
       "    // Create a \"websocket\"-like object which calls the given IPython comm\n",
       "    // object with the appropriate methods. Currently this is a non binary\n",
       "    // socket, so there is still some room for performance tuning.\n",
       "    var ws = {};\n",
       "\n",
       "    ws.close = function() {\n",
       "        comm.close()\n",
       "    };\n",
       "    ws.send = function(m) {\n",
       "        //console.log('sending', m);\n",
       "        comm.send(m);\n",
       "    };\n",
       "    // Register the callback with on_msg.\n",
       "    comm.on_msg(function(msg) {\n",
       "        //console.log('receiving', msg['content']['data'], msg);\n",
       "        // Pass the mpl event to the overridden (by mpl) onmessage function.\n",
       "        ws.onmessage(msg['content']['data'])\n",
       "    });\n",
       "    return ws;\n",
       "}\n",
       "\n",
       "mpl.mpl_figure_comm = function(comm, msg) {\n",
       "    // This is the function which gets called when the mpl process\n",
       "    // starts-up an IPython Comm through the \"matplotlib\" channel.\n",
       "\n",
       "    var id = msg.content.data.id;\n",
       "    // Get hold of the div created by the display call when the Comm\n",
       "    // socket was opened in Python.\n",
       "    var element = $(\"#\" + id);\n",
       "    var ws_proxy = comm_websocket_adapter(comm)\n",
       "\n",
       "    function ondownload(figure, format) {\n",
       "        window.open(figure.imageObj.src);\n",
       "    }\n",
       "\n",
       "    var fig = new mpl.figure(id, ws_proxy,\n",
       "                           ondownload,\n",
       "                           element.get(0));\n",
       "\n",
       "    // Call onopen now - mpl needs it, as it is assuming we've passed it a real\n",
       "    // web socket which is closed, not our websocket->open comm proxy.\n",
       "    ws_proxy.onopen();\n",
       "\n",
       "    fig.parent_element = element.get(0);\n",
       "    fig.cell_info = mpl.find_output_cell(\"<div id='\" + id + \"'></div>\");\n",
       "    if (!fig.cell_info) {\n",
       "        console.error(\"Failed to find cell for figure\", id, fig);\n",
       "        return;\n",
       "    }\n",
       "\n",
       "    var output_index = fig.cell_info[2]\n",
       "    var cell = fig.cell_info[0];\n",
       "\n",
       "};\n",
       "\n",
       "mpl.figure.prototype.handle_close = function(fig, msg) {\n",
       "    var width = fig.canvas.width/mpl.ratio\n",
       "    fig.root.unbind('remove')\n",
       "\n",
       "    // Update the output cell to use the data from the current canvas.\n",
       "    fig.push_to_output();\n",
       "    var dataURL = fig.canvas.toDataURL();\n",
       "    // Re-enable the keyboard manager in IPython - without this line, in FF,\n",
       "    // the notebook keyboard shortcuts fail.\n",
       "    IPython.keyboard_manager.enable()\n",
       "    $(fig.parent_element).html('<img src=\"' + dataURL + '\" width=\"' + width + '\">');\n",
       "    fig.close_ws(fig, msg);\n",
       "}\n",
       "\n",
       "mpl.figure.prototype.close_ws = function(fig, msg){\n",
       "    fig.send_message('closing', msg);\n",
       "    // fig.ws.close()\n",
       "}\n",
       "\n",
       "mpl.figure.prototype.push_to_output = function(remove_interactive) {\n",
       "    // Turn the data on the canvas into data in the output cell.\n",
       "    var width = this.canvas.width/mpl.ratio\n",
       "    var dataURL = this.canvas.toDataURL();\n",
       "    this.cell_info[1]['text/html'] = '<img src=\"' + dataURL + '\" width=\"' + width + '\">';\n",
       "}\n",
       "\n",
       "mpl.figure.prototype.updated_canvas_event = function() {\n",
       "    // Tell IPython that the notebook contents must change.\n",
       "    IPython.notebook.set_dirty(true);\n",
       "    this.send_message(\"ack\", {});\n",
       "    var fig = this;\n",
       "    // Wait a second, then push the new image to the DOM so\n",
       "    // that it is saved nicely (might be nice to debounce this).\n",
       "    setTimeout(function () { fig.push_to_output() }, 1000);\n",
       "}\n",
       "\n",
       "mpl.figure.prototype._init_toolbar = function() {\n",
       "    var fig = this;\n",
       "\n",
       "    var nav_element = $('<div/>');\n",
       "    nav_element.attr('style', 'width: 100%');\n",
       "    this.root.append(nav_element);\n",
       "\n",
       "    // Define a callback function for later on.\n",
       "    function toolbar_event(event) {\n",
       "        return fig.toolbar_button_onclick(event['data']);\n",
       "    }\n",
       "    function toolbar_mouse_event(event) {\n",
       "        return fig.toolbar_button_onmouseover(event['data']);\n",
       "    }\n",
       "\n",
       "    for(var toolbar_ind in mpl.toolbar_items){\n",
       "        var name = mpl.toolbar_items[toolbar_ind][0];\n",
       "        var tooltip = mpl.toolbar_items[toolbar_ind][1];\n",
       "        var image = mpl.toolbar_items[toolbar_ind][2];\n",
       "        var method_name = mpl.toolbar_items[toolbar_ind][3];\n",
       "\n",
       "        if (!name) { continue; };\n",
       "\n",
       "        var button = $('<button class=\"btn btn-default\" href=\"#\" title=\"' + name + '\"><i class=\"fa ' + image + ' fa-lg\"></i></button>');\n",
       "        button.click(method_name, toolbar_event);\n",
       "        button.mouseover(tooltip, toolbar_mouse_event);\n",
       "        nav_element.append(button);\n",
       "    }\n",
       "\n",
       "    // Add the status bar.\n",
       "    var status_bar = $('<span class=\"mpl-message\" style=\"text-align:right; float: right;\"/>');\n",
       "    nav_element.append(status_bar);\n",
       "    this.message = status_bar[0];\n",
       "\n",
       "    // Add the close button to the window.\n",
       "    var buttongrp = $('<div class=\"btn-group inline pull-right\"></div>');\n",
       "    var button = $('<button class=\"btn btn-mini btn-primary\" href=\"#\" title=\"Stop Interaction\"><i class=\"fa fa-power-off icon-remove icon-large\"></i></button>');\n",
       "    button.click(function (evt) { fig.handle_close(fig, {}); } );\n",
       "    button.mouseover('Stop Interaction', toolbar_mouse_event);\n",
       "    buttongrp.append(button);\n",
       "    var titlebar = this.root.find($('.ui-dialog-titlebar'));\n",
       "    titlebar.prepend(buttongrp);\n",
       "}\n",
       "\n",
       "mpl.figure.prototype._root_extra_style = function(el){\n",
       "    var fig = this\n",
       "    el.on(\"remove\", function(){\n",
       "\tfig.close_ws(fig, {});\n",
       "    });\n",
       "}\n",
       "\n",
       "mpl.figure.prototype._canvas_extra_style = function(el){\n",
       "    // this is important to make the div 'focusable\n",
       "    el.attr('tabindex', 0)\n",
       "    // reach out to IPython and tell the keyboard manager to turn it's self\n",
       "    // off when our div gets focus\n",
       "\n",
       "    // location in version 3\n",
       "    if (IPython.notebook.keyboard_manager) {\n",
       "        IPython.notebook.keyboard_manager.register_events(el);\n",
       "    }\n",
       "    else {\n",
       "        // location in version 2\n",
       "        IPython.keyboard_manager.register_events(el);\n",
       "    }\n",
       "\n",
       "}\n",
       "\n",
       "mpl.figure.prototype._key_event_extra = function(event, name) {\n",
       "    var manager = IPython.notebook.keyboard_manager;\n",
       "    if (!manager)\n",
       "        manager = IPython.keyboard_manager;\n",
       "\n",
       "    // Check for shift+enter\n",
       "    if (event.shiftKey && event.which == 13) {\n",
       "        this.canvas_div.blur();\n",
       "        event.shiftKey = false;\n",
       "        // Send a \"J\" for go to next cell\n",
       "        event.which = 74;\n",
       "        event.keyCode = 74;\n",
       "        manager.command_mode();\n",
       "        manager.handle_keydown(event);\n",
       "    }\n",
       "}\n",
       "\n",
       "mpl.figure.prototype.handle_save = function(fig, msg) {\n",
       "    fig.ondownload(fig, null);\n",
       "}\n",
       "\n",
       "\n",
       "mpl.find_output_cell = function(html_output) {\n",
       "    // Return the cell and output element which can be found *uniquely* in the notebook.\n",
       "    // Note - this is a bit hacky, but it is done because the \"notebook_saving.Notebook\"\n",
       "    // IPython event is triggered only after the cells have been serialised, which for\n",
       "    // our purposes (turning an active figure into a static one), is too late.\n",
       "    var cells = IPython.notebook.get_cells();\n",
       "    var ncells = cells.length;\n",
       "    for (var i=0; i<ncells; i++) {\n",
       "        var cell = cells[i];\n",
       "        if (cell.cell_type === 'code'){\n",
       "            for (var j=0; j<cell.output_area.outputs.length; j++) {\n",
       "                var data = cell.output_area.outputs[j];\n",
       "                if (data.data) {\n",
       "                    // IPython >= 3 moved mimebundle to data attribute of output\n",
       "                    data = data.data;\n",
       "                }\n",
       "                if (data['text/html'] == html_output) {\n",
       "                    return [cell, data, j];\n",
       "                }\n",
       "            }\n",
       "        }\n",
       "    }\n",
       "}\n",
       "\n",
       "// Register the function which deals with the matplotlib target/channel.\n",
       "// The kernel may be null if the page has been refreshed.\n",
       "if (IPython.notebook.kernel != null) {\n",
       "    IPython.notebook.kernel.comm_manager.register_target('matplotlib', mpl.mpl_figure_comm);\n",
       "}\n"
      ],
      "text/plain": [
       "<IPython.core.display.Javascript object>"
      ]
     },
     "metadata": {},
     "output_type": "display_data"
    },
    {
     "data": {
      "text/html": [
       "<img src=\"data:image/png;base64,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\" width=\"640\">"
      ],
      "text/plain": [
       "<IPython.core.display.HTML object>"
      ]
     },
     "metadata": {},
     "output_type": "display_data"
    }
   ],
   "source": [
    "#%matplotlib notebook \n",
    "imagem = plt.imread(\"encrypt.bmp\")\n",
    "plt.imshow(imagem)\n",
    "plt.show()"
   ]
  },
  {
   "cell_type": "markdown",
   "metadata": {},
   "source": [
    "# de acordo com a deep web, o hacker conhecido como MIB assina seus hacks com um segredo."
   ]
  },
  {
   "cell_type": "markdown",
   "metadata": {
    "slideshow": {
     "slide_type": "slide"
    }
   },
   "source": [
    "# huuum. isso me parece **suspeito.**\n",
    "\n",
    "## * imagem com pixels estranhos.\n",
    "## * código secreto???\n",
    "# e agora?"
   ]
  },
  {
   "cell_type": "markdown",
   "metadata": {
    "slideshow": {
     "slide_type": "slide"
    }
   },
   "source": [
    "\n",
    "# **VERMELHO**  **252** **61**  **113** \n",
    "\n",
    "# **VERDE**  **2**  **178** **21**.\n",
    "\n",
    "# **AZUL**  **6** **1**  **21** \n",
    "\n",
    "# MIB."
   ]
  },
  {
   "cell_type": "markdown",
   "metadata": {
    "ExecuteTime": {
     "end_time": "2019-08-19T15:30:23.411902Z",
     "start_time": "2019-08-19T15:30:23.406846Z"
    },
    "slideshow": {
     "slide_type": "slide"
    }
   },
   "source": [
    "# RGB???\n",
    "# MIB ???\n",
    "\n",
    "\n",
    "# VALORES DE RGB?\n"
   ]
  },
  {
   "cell_type": "markdown",
   "metadata": {
    "ExecuteTime": {
     "end_time": "2019-08-19T15:33:05.558702Z",
     "start_time": "2019-08-19T15:33:05.553444Z"
    },
    "slideshow": {
     "slide_type": "slide"
    }
   },
   "source": [
    "# M =  **252** **61**  **113** \n",
    "\n",
    "# I =  **2**  **178** **21**.\n",
    "\n",
    "# B =  **6** **1**  **21** "
   ]
  },
  {
   "cell_type": "markdown",
   "metadata": {
    "slideshow": {
     "slide_type": "slide"
    }
   },
   "source": [
    "# Tabela ASCII.\n",
    "\n",
    "### M = 77 I = 73 B = 66\n",
    "\n",
    "# ALFABETO ASCII MAIUSCULO: DE 65 A 90\n",
    "### M = 77 - 65 , I = 73 - 65, B = 66 - 65\n",
    "### M = 12 I = 8, B = 1"
   ]
  },
  {
   "cell_type": "code",
   "execution_count": 3,
   "metadata": {
    "ExecuteTime": {
     "end_time": "2019-08-20T13:17:40.732529Z",
     "start_time": "2019-08-20T13:17:40.461786Z"
    },
    "slideshow": {
     "slide_type": "slide"
    }
   },
   "outputs": [
    {
     "data": {
      "text/plain": [
       "<matplotlib.image.AxesImage at 0x7f4edb880390>"
      ]
     },
     "execution_count": 3,
     "metadata": {},
     "output_type": "execute_result"
    },
    {
     "data": {
      "image/png": "[encoded data removed]",
      "text/plain": [
       "<Figure size 432x288 with 1 Axes>"
      ]
     },
     "metadata": {
      "needs_background": "light"
     },
     "output_type": "display_data"
    }
   ],
   "source": [
    "%matplotlib inline\n",
    "\n",
    "A = np.array([[[252,61,113],[2,178,21],[6,1,21]],],dtype=np.int32)\n",
    "    \n",
    "plt.imshow(A)"
   ]
  },
  {
   "cell_type": "code",
   "execution_count": 4,
   "metadata": {
    "ExecuteTime": {
     "end_time": "2019-08-20T13:18:31.605201Z",
     "start_time": "2019-08-20T13:18:31.484278Z"
    },
    "code_folding": [],
    "slideshow": {
     "slide_type": "slide"
    }
   },
   "outputs": [
    {
     "data": {
      "application/vnd.jupyter.widget-view+json": {
       "model_id": "7a3301e079ae4241bef43deac41ddb24",
       "version_major": 2,
       "version_minor": 0
      },
      "text/plain": [
       "GridBox(children=(Label(value='$$A= \\\\begin{bmatrix}\\n  252. & 61. & 113.\\\\\\\\\\n  2. & 178. & 21.\\\\\\\\\\n  6. & 1…"
      ]
     },
     "metadata": {},
     "output_type": "display_data"
    }
   ],
   "source": [
    "A = np.array([[252,61,113],[2,178,21],[6,1,21]],dtype=np.float32)\n",
    "B = np.array([12,8,1], dtype=np.float32)\n",
    "chute = np.array([0.0,0.0,0.0],dtype=np.float32)\n",
    "\n",
    "\n",
    "items = [widgets.Label(math('A',A)), widgets.Label(math('B',B)), widgets.Label(math('x(0)',chute)) ]\n",
    "widgets.GridBox(items, layout=widgets.Layout(grid_template_columns=\"repeat(3, 300px)\"))\n"
   ]
  },
  {
   "cell_type": "markdown",
   "metadata": {
    "slideshow": {
     "slide_type": "slide"
    }
   },
   "source": [
    "# vamos tentar resolver as equações?"
   ]
  },
  {
   "cell_type": "code",
   "execution_count": 5,
   "metadata": {
    "ExecuteTime": {
     "end_time": "2019-08-20T13:19:48.960484Z",
     "start_time": "2019-08-20T13:19:48.914372Z"
    },
    "code_folding": [],
    "scrolled": true,
    "slideshow": {
     "slide_type": "slide"
    }
   },
   "outputs": [
    {
     "data": {
      "text/html": [
       "$$ x^{(k=0)} = \\begin{bmatrix}\n",
       "  0. & 0. & 0.\\\\\n",
       "\\end{bmatrix} $$ $$ x^{(k=1)} = \\begin{bmatrix}\n",
       "  0.04761905 & 0.04494382 & 0.04761905\\\\\n",
       "\\end{bmatrix} $$ $$ x^{(k=2)} = \\begin{bmatrix}\n",
       "  0.0153868 & 0.0387908 & 0.03187342\\\\\n",
       "\\end{bmatrix} $$ $$ x^{(k=3)} = \\begin{bmatrix}\n",
       "  0.02393676 & 0.04101059 & 0.04137564\\\\\n",
       "\\end{bmatrix} $$ $$ x^{(k=4)} = \\begin{bmatrix}\n",
       "  0.01913852 & 0.03979347 & 0.03882709\\\\\n",
       "\\end{bmatrix} $$ $$ x^{(k=5)} = \\begin{bmatrix}\n",
       "  0.02057594 & 0.04014806 & 0.04025597\\\\\n",
       "\\end{bmatrix} $$ $$ x^{(k=6)} = \\begin{bmatrix}\n",
       "  0.01984938 & 0.03996333 & 0.03982839\\\\\n",
       "\\end{bmatrix} $$ $$ x^{(k=7)} = \\begin{bmatrix}\n",
       "  0.02008583 & 0.04002194 & 0.04004478\\\\\n",
       "\\end{bmatrix} $$ $$ x^{(k=8)} = \\begin{bmatrix}\n",
       "  0.01997461 & 0.03999375 & 0.03997443\\\\\n",
       "\\end{bmatrix} $$ $$ x^{(k=9)} = \\begin{bmatrix}\n",
       "  0.02001298 & 0.0400033 & 0.04000755\\\\\n",
       "\\end{bmatrix} $$ $$ x^{(k=10)} = \\begin{bmatrix}\n",
       "  0.01999581 & 0.03999896 & 0.03999614\\\\\n",
       "\\end{bmatrix} $$ $$ x^{(k=11)} = \\begin{bmatrix}\n",
       "  0.02000198 & 0.0400005 & 0.04000125\\\\\n",
       "\\end{bmatrix} $$ $$ x^{(k=12)} = \\begin{bmatrix}\n",
       "  0.01999932 & 0.03999983 & 0.03999941\\\\\n",
       "\\end{bmatrix} $$ $$ x^{(k=13)} = \\begin{bmatrix}\n",
       "  0.02000031 & 0.04000008 & 0.0400002\\\\\n",
       "\\end{bmatrix} $$ $$ x^{(k=14)} = \\begin{bmatrix}\n",
       "  0.01999989 & 0.03999997 & 0.03999991\\\\\n",
       "\\end{bmatrix} $$ $$ x^{(k=15)} = \\begin{bmatrix}\n",
       "  0.02000005 & 0.04000001 & 0.04000003\\\\\n",
       "\\end{bmatrix} $$ $$ x^{(k=16)} = \\begin{bmatrix}\n",
       "  0.01999998 & 0.04 & 0.03999999\\\\\n",
       "\\end{bmatrix} $$ $$ x^{(k=17)} = \\begin{bmatrix}\n",
       "  0.02000001 & 0.04 & 0.04000001\\\\\n",
       "\\end{bmatrix} $$ $$ x^{(k=18)} = \\begin{bmatrix}\n",
       "  0.02 & 0.04 & 0.04\\\\\n",
       "\\end{bmatrix} $$ "
      ],
      "text/plain": [
       "<IPython.core.display.HTML object>"
      ]
     },
     "metadata": {},
     "output_type": "display_data"
    }
   ],
   "source": [
    "def jacobi(a,b,x,t=50, tol=1e-8):\n",
    "    x = x.copy(); x0 = x.copy(); n=len(x); reslist = []\n",
    "    m = 0; mathtx = mat_print(m,x); m += 1\n",
    "    while m < t:\n",
    "        q = np.zeros(x.shape)\n",
    "        for i in range(n):\n",
    "            s=0\n",
    "            for j in range(n):\n",
    "                if i!=j:\n",
    "                    s += a[i,j] *x[j]\n",
    "            q[i] = ((b[i]-s)/a[i,i])\n",
    "        x = np.array(q)\n",
    "        if all([(False if abs(x0[k] - x[k]) > tol else True) for k in range(len(x))]):                 \n",
    "            break\n",
    "        mathtx += mat_print(m,q); reslist.append(q)\n",
    "        x0 = np.array(q)\n",
    "        m += 1\n",
    "    return mathtx, reslist\n",
    "\n",
    "res_j,l_j = jacobi(A,B,chute, t=20); display(HTML(res_j))"
   ]
  },
  {
   "cell_type": "code",
   "execution_count": 6,
   "metadata": {
    "ExecuteTime": {
     "end_time": "2019-08-20T13:21:04.800783Z",
     "start_time": "2019-08-20T13:21:04.765008Z"
    },
    "code_folding": [],
    "hide_input": false,
    "scrolled": false,
    "slideshow": {
     "slide_type": "slide"
    }
   },
   "outputs": [
    {
     "data": {
      "text/html": [
       "$$ x^{(k=0)} = \\begin{bmatrix}\n",
       "  0. & 0. & 0.\\\\\n",
       "\\end{bmatrix} $$ $$ x^{(k=1)} = \\begin{bmatrix}\n",
       "  0.04761905 & 0.04440878 & 0.0318989\\\\\n",
       "\\end{bmatrix} $$ $$ x^{(k=2)} = \\begin{bmatrix}\n",
       "  0.02256543 & 0.04092692 & 0.03922288\\\\\n",
       "\\end{bmatrix} $$ $$ x^{(k=3)} = \\begin{bmatrix}\n",
       "  0.0201241 & 0.04009029 & 0.03996024\\\\\n",
       "\\end{bmatrix} $$ $$ x^{(k=4)} = \\begin{bmatrix}\n",
       "  0.01999597 & 0.04000473 & 0.04000093\\\\\n",
       "\\end{bmatrix} $$ $$ x^{(k=5)} = \\begin{bmatrix}\n",
       "  0.01999844 & 0.03999991 & 0.04000045\\\\\n",
       "\\end{bmatrix} $$ $$ x^{(k=6)} = \\begin{bmatrix}\n",
       "  0.01999982 & 0.03999995 & 0.04000005\\\\\n",
       "\\end{bmatrix} $$ $$ x^{(k=7)} = \\begin{bmatrix}\n",
       "  0.01999999 & 0.04 & 0.04\\\\\n",
       "\\end{bmatrix} $$ $$ x^{(k=8)} = \\begin{bmatrix}\n",
       "  0.02 & 0.04 & 0.04\\\\\n",
       "\\end{bmatrix} $$ "
      ],
      "text/plain": [
       "<IPython.core.display.HTML object>"
      ]
     },
     "metadata": {},
     "output_type": "display_data"
    }
   ],
   "source": [
    "def seidel(a,b,x,t=50, tol=1e-8):\n",
    "    x = x.copy(); x0 = x.copy(); n=len(x); reslist = []\n",
    "    m = 0; mathtx = mat_print(m,x) ; m += 1\n",
    "    \n",
    "    while m < t:\n",
    "        for i in range(n):\n",
    "            s=0\n",
    "            for j in range(n):\n",
    "                if i!=j:\n",
    "                    s += a[i,j] *x[j]\n",
    "            x[i] = (b[i]-s)/a[i,i]\n",
    "            \n",
    "        if all([(False if abs(x0[k] - x[k]) > tol else True) for k in range(len(x))]): break\n",
    "        mathtx += mat_print(m,x); reslist.append(x.copy())\n",
    "        \n",
    "        x0 = x.copy()\n",
    "        m += 1\n",
    "    return mathtx, reslist\n",
    "\n",
    "res_s, l_s = seidel(A,B,chute, t=200); display(HTML(res_s))"
   ]
  },
  {
   "cell_type": "code",
   "execution_count": 7,
   "metadata": {
    "ExecuteTime": {
     "end_time": "2019-08-20T13:21:25.674405Z",
     "start_time": "2019-08-20T13:21:25.467962Z"
    },
    "code_folding": [],
    "slideshow": {
     "slide_type": "slide"
    }
   },
   "outputs": [
    {
     "data": {
      "application/vnd.jupyter.widget-view+json": {
       "model_id": "d58a8deb811c43d9834f4533eb4bc894",
       "version_major": 2,
       "version_minor": 0
      },
      "text/plain": [
       "GridBox(children=(Label(value='$$A U B= \\\\begin{bmatrix}\\n  252. & 61. & 113. & 12.\\\\\\\\\\n  2. & 178. & 21. & 8…"
      ]
     },
     "metadata": {},
     "output_type": "display_data"
    }
   ],
   "source": [
    "def gauss_elim(a,b):\n",
    "    np.set_printoptions(suppress=True)\n",
    "    res = []; n=len(b)\n",
    "    c=np.concatenate([a,b],axis=1) \n",
    "    res.append(widgets.Label(math('A U B',c)))\n",
    "    \n",
    "    for e in range(n):\n",
    "        t=c[e,e]\n",
    "        for j in range(e,n+1):\n",
    "            c[e,j]=c[e,j]/t \n",
    "        \n",
    "        res.append(widgets.Label(math('A(nrm)',c)))\n",
    "        for i in range(e+1,n):\n",
    "            t=c[i,e]\n",
    "            for j in range(e,n+1):\n",
    "                c[i,j]=c[i,j]-t*c[e,j]\n",
    "            \n",
    "            res.append(widgets.Label(math('A(red)', c)))\n",
    "    x=np.zeros([n,1]) \n",
    "    x[n-1]=c[n-1,n]\n",
    "    \n",
    "    for i in range(n-2,-1,-1):\n",
    "        s=0\n",
    "        for j in range(i+1,n):\n",
    "            s=s+c[i,j]*x[j]\n",
    "        x[i]=c[i,n]-s\n",
    "    res.append(widgets.Label(math('A(fin)',x)))\n",
    "    return x, res\n",
    "\n",
    "\n",
    "A = np.array([[252,61,113],[2,178,21],[6,1,21]],dtype=np.float32)\n",
    "B = np.array([[12],[8],[1]], dtype=np.float32)\n",
    "\n",
    "_,a = gauss_elim(A,B)\n",
    "\n",
    "widgets.GridBox(a, layout=widgets.Layout(grid_template_columns=\"repeat(1, 600px)\"))\n"
   ]
  },
  {
   "cell_type": "code",
   "execution_count": 8,
   "metadata": {
    "ExecuteTime": {
     "end_time": "2019-08-20T13:22:11.860703Z",
     "start_time": "2019-08-20T13:22:11.782651Z"
    },
    "scrolled": true,
    "slideshow": {
     "slide_type": "slide"
    }
   },
   "outputs": [
    {
     "data": {
      "application/vnd.jupyter.widget-view+json": {
       "model_id": "c15424073615442a91b6f103a633b342",
       "version_major": 2,
       "version_minor": 0
      },
      "text/plain": [
       "GridBox(children=(Label(value='$$ x^{(k=0)} = \\\\begin{bmatrix}\\n  0. & 0. & 0.\\\\\\\\\\n\\\\end{bmatrix} $$ $$ x^{(k…"
      ]
     },
     "metadata": {},
     "output_type": "display_data"
    }
   ],
   "source": [
    "widgets.GridBox([widgets.Label(res_j), widgets.Label(res_s)], \\\n",
    "                layout=widgets.Layout(grid_template_columns=\"repeat(2, 400px)\"))"
   ]
  },
  {
   "cell_type": "markdown",
   "metadata": {
    "slideshow": {
     "slide_type": "slide"
    }
   },
   "source": [
    "# 0.02 0.04 0.04\n",
    "# e daí?\n"
   ]
  },
  {
   "cell_type": "markdown",
   "metadata": {
    "slideshow": {
     "slide_type": "slide"
    }
   },
   "source": [
    "# o que temos?\n",
    "* os valores de RGB que formam a letra M,I e B.\n",
    "* a equação geral utilizada para formarem os valores.\n",
    "\n",
    "# agora finalmente podemos tentar decodificar a imagem"
   ]
  },
  {
   "cell_type": "code",
   "execution_count": 9,
   "metadata": {
    "ExecuteTime": {
     "end_time": "2019-08-20T13:24:28.954294Z",
     "start_time": "2019-08-20T13:24:28.724554Z"
    },
    "scrolled": true,
    "slideshow": {
     "slide_type": "slide"
    }
   },
   "outputs": [
    {
     "data": {
      "image/png": "[encoded data removed]",
      "text/plain": [
       "<Figure size 432x288 with 1 Axes>"
      ]
     },
     "metadata": {
      "needs_background": "light"
     },
     "output_type": "display_data"
    }
   ],
   "source": [
    "#%matplotlib notebook \n",
    "imagem = plt.imread(\"encrypt.bmp\")\n",
    "plt.imshow(imagem)\n",
    "plt.show()"
   ]
  },
  {
   "cell_type": "code",
   "execution_count": 10,
   "metadata": {
    "ExecuteTime": {
     "end_time": "2019-08-20T13:26:21.265294Z",
     "start_time": "2019-08-20T13:26:20.985244Z"
    },
    "scrolled": false,
    "slideshow": {
     "slide_type": "slide"
    }
   },
   "outputs": [
    {
     "name": "stdout",
     "output_type": "stream",
     "text": [
      "A VERDADE ESTA MAIS PERTO DO QUE VOCE IMAGINA   MAS NO MOMENTO A PRINCESA SE ENCONTRA EM OUTRO CASTELO                                                                  AAAAAAAAAAAAAAAAAAAAAAAAAAAAAAAAAAAAAAAAAAAAAAAA                                                                                AAAAAAAAAAAAAAAAAAAAAAAAAAAAAAAAAAAAAAAAAAAAAAAA                                                                                AAAAAAAAAAAAAAAAAAAAAAAAAAAAAAAAAAAAAAAAAAAAAAAA                                                                                AAAAAAAAAAAAAAAAAAAAAAAAAAAAAAAAAAAAAAAAAAAAAAAA                                                                                AAAAAAAAAAAAAAAAAAAAAAAAAAAAAAAAAAAAAAAAAAAAAAAA                                                                                AAAAAAAAAAAAAAAAAAAAAAAAAAAAAAAAAAAAAAAAAAAAAAAA                                                                                AAAAAAAAAAAAAAAAAAAAAAAAAAAAAAAAAAAAAAAAAAAAAAAA                                                                AAAAAAAAAAAAAAAAAAAAAAAA        KKKKKKKKKKKKKKKK        AAAAAAAAAAAAAAAAAAAAAAAA                                                AAAAAAAAAAAAAAAAAAAAAAAA        KKKKKKKKKKKKKKKK        AAAAAAAAAAAAAAAAAAAAAAAA                                                AAAAAAAAAAAAAAAAAAAAAAAA        KKKKKKKKKKKKKKKK        AAAAAAAAAAAAAAAAAAAAAAAA                                                AAAAAAAAAAAAAAAAAAAAAAAA        KKKKKKKKKKKKKKKK        AAAAAAAAAAAAAAAAAAAAAAAA                                                AAAAAAAAAAAAAAAAAAAAAAAA        KKKKKKKKKKKKKKKK        AAAAAAAAAAAAAAAAAAAAAAAA                                                AAAAAAAAAAAAAAAAAAAAAAAA        KKKKKKKKKKKKKKKK        AAAAAAAAAAAAAAAAAAAAAAAA                                                AAAAAAAAAAAAAAAAAAAAAAAA        KKKKKKKKKKKKKKKK        AAAAAAAAAAAAAAAAAAAAAAAA                                                AAAAAAAAAAAAAAAAAAAAAAAA        KKKKKKKKKKKKKKKK        AAAAAAAAAAAAAAAAAAAAAAAA                                        AAAAAAAAAAAAAAAA                        KKKKKKKKKKKKKKKK                        AAAAAAAAAAAAAAAA                                AAAAAAAAAAAAAAAA                        KKKKKKKKKKKKKKKK                        AAAAAAAAAAAAAAAA                                AAAAAAAAAAAAAAAA                        KKKKKKKKKKKKKKKK                        AAAAAAAAAAAAAAAA                                AAAAAAAAAAAAAAAA                        KKKKKKKKKKKKKKKK                        AAAAAAAAAAAAAAAA                                AAAAAAAAAAAAAAAA                        KKKKKKKKKKKKKKKK                        AAAAAAAAAAAAAAAA                                AAAAAAAAAAAAAAAA                        KKKKKKKKKKKKKKKK                        AAAAAAAAAAAAAAAA                                AAAAAAAAAAAAAAAA                        KKKKKKKKKKKKKKKK                        AAAAAAAAAAAAAAAA                                AAAAAAAAAAAAAAAA                        KKKKKKKKKKKKKKKK                        AAAAAAAAAAAAAAAA                        AAAAAAAAAAAAAAAAKKKKKKKK                KKKKKKKKKKKKKKKKKKKKKKKKKKKKKKKK                KKKKKKKKAAAAAAAAAAAAAAAA                AAAAAAAAAAAAAAAAKKKKKKKK                KKKKKKKKKKKKKKKKKKKKKKKKKKKKKKKK                KKKKKKKKAAAAAAAAAAAAAAAA                AAAAAAAAAAAAAAAAKKKKKKKK                KKKKKKKKKKKKKKKKKKKKKKKKKKKKKKKK                KKKKKKKKAAAAAAAAAAAAAAAA                AAAAAAAAAAAAAAAAKKKKKKKK                KKKKKKKKKKKKKKKKKKKKKKKKKKKKKKKK                KKKKKKKKAAAAAAAAAAAAAAAA                AAAAAAAAAAAAAAAAKKKKKKKK                KKKKKKKKKKKKKKKKKKKKKKKKKKKKKKKK                KKKKKKKKAAAAAAAAAAAAAAAA                AAAAAAAAAAAAAAAAKKKKKKKK                KKKKKKKKKKKKKKKKKKKKKKKKKKKKKKKK                KKKKKKKKAAAAAAAAAAAAAAAA                AAAAAAAAAAAAAAAAKKKKKKKK                KKKKKKKKKKKKKKKKKKKKKKKKKKKKKKKK                KKKKKKKKAAAAAAAAAAAAAAAA                AAAAAAAAAAAAAAAAKKKKKKKK                KKKKKKKKKKKKKKKKKKKKKKKKKKKKKKKK                KKKKKKKKAAAAAAAAAAAAAAAA                AAAAAAAA        KKKKKKKKKKKKKKKKKKKKKKKKKKKKKKKKKKKKKKKKKKKKKKKKKKKKKKKKKKKKKKKKKKKKKKKKKKKKKKKK        AAAAAAAA                AAAAAAAA        KKKKKKKKKKKKKKKKKKKKKKKKKKKKKKKKKKKKKKKKKKKKKKKKKKKKKKKKKKKKKKKKKKKKKKKKKKKKKKKK        AAAAAAAA                AAAAAAAA        KKKKKKKKKKKKKKKKKKKKKKKKKKKKKKKKKKKKKKKKKKKKKKKKKKKKKKKKKKKKKKKKKKKKKKKKKKKKKKKK        AAAAAAAA                AAAAAAAA        KKKKKKKKKKKKKKKKKKKKKKKKKKKKKKKKKKKKKKKKKKKKKKKKKKKKKKKKKKKKKKKKKKKKKKKKKKKKKKKK        AAAAAAAA                AAAAAAAA        KKKKKKKKKKKKKKKKKKKKKKKKKKKKKKKKKKKKKKKKKKKKKKKKKKKKKKKKKKKKKKKKKKKKKKKKKKKKKKKK        AAAAAAAA                AAAAAAAA        KKKKKKKKKKKKKKKKKKKKKKKKKKKKKKKKKKKKKKKKKKKKKKKKKKKKKKKKKKKKKKKKKKKKKKKKKKKKKKKK        AAAAAAAA                AAAAAAAA        KKKKKKKKKKKKKKKKKKKKKKKKKKKKKKKKKKKKKKKKKKKKKKKKKKKKKKKKKKKKKKKKKKKKKKKKKKKKKKKK        AAAAAAAA                AAAAAAAA        KKKKKKKKKKKKKKKKKKKKKKKKKKKKKKKKKKKKKKKKKKKKKKKKKKKKKKKKKKKKKKKKKKKKKKKKKKKKKKKK        AAAAAAAA        AAAAAAAAAAAAAAAA                KKKKKKKKKKKKKKKK                                KKKKKKKKKKKKKKKK                AAAAAAAAAAAAAAAAAAAAAAAAAAAAAAAA                KKKKKKKKKKKKKKKK                                KKKKKKKKKKKKKKKK                AAAAAAAAAAAAAAAAAAAAAAAAAAAAAAAA                KKKKKKKKKKKKKKKK                                KKKKKKKKKKKKKKKK                AAAAAAAAAAAAAAAAAAAAAAAAAAAAAAAA                KKKKKKKKKKKKKKKK                                KKKKKKKKKKKKKKKK                AAAAAAAAAAAAAAAAAAAAAAAAAAAAAAAA                KKKKKKKKKKKKKKKK                                KKKKKKKKKKKKKKKK                AAAAAAAAAAAAAAAAAAAAAAAAAAAAAAAA                KKKKKKKKKKKKKKKK                                KKKKKKKKKKKKKKKK                AAAAAAAAAAAAAAAAAAAAAAAAAAAAAAAA                KKKKKKKKKKKKKKKK                                KKKKKKKKKKKKKKKK                AAAAAAAAAAAAAAAAAAAAAAAAAAAAAAAA                KKKKKKKKKKKKKKKK                                KKKKKKKKKKKKKKKK                AAAAAAAAAAAAAAAAAAAAAAAA                        KKKKKKKK                                                KKKKKKKK                        AAAAAAAAAAAAAAAA                        KKKKKKKK                                                KKKKKKKK                        AAAAAAAAAAAAAAAA                        KKKKKKKK                                                KKKKKKKK                        AAAAAAAAAAAAAAAA                        KKKKKKKK                                                KKKKKKKK                        AAAAAAAAAAAAAAAA                        KKKKKKKK                                                KKKKKKKK                        AAAAAAAAAAAAAAAA                        KKKKKKKK                                                KKKKKKKK                        AAAAAAAAAAAAAAAA                        KKKKKKKK                                                KKKKKKKK                        AAAAAAAAAAAAAAAA                        KKKKKKKK                                                KKKKKKKK                        AAAAAAAAAAAAAAAA                        KKKKKKKK                                                KKKKKKKK                        AAAAAAAAAAAAAAAA                        KKKKKKKK                                                KKKKKKKK                        AAAAAAAAAAAAAAAA                        KKKKKKKK                                                KKKKKKKK                        AAAAAAAAAAAAAAAA                        KKKKKKKK                                                KKKKKKKK                        AAAAAAAAAAAAAAAA                        KKKKKKKK                                                KKKKKKKK                        AAAAAAAAAAAAAAAA                        KKKKKKKK                                                KKKKKKKK                        AAAAAAAAAAAAAAAA                        KKKKKKKK                                                KKKKKKKK                        AAAAAAAAAAAAAAAA                        KKKKKKKK                                                KKKKKKKK                        AAAAAAAAAAAAAAAA                KKKKKKKKKKKKKKKK                                                KKKKKKKKKKKKKKKK                AAAAAAAAAAAAAAAA                KKKKKKKKKKKKKKKK                                                KKKKKKKKKKKKKKKK                AAAAAAAAAAAAAAAA                KKKKKKKKKKKKKKKK                                                KKKKKKKKKKKKKKKK                AAAAAAAAAAAAAAAA                KKKKKKKKKKKKKKKK                                                KKKKKKKKKKKKKKKK                AAAAAAAAAAAAAAAA                KKKKKKKKKKKKKKKK                                                KKKKKKKKKKKKKKKK                AAAAAAAAAAAAAAAA                KKKKKKKKKKKKKKKK                                                KKKKKKKKKKKKKKKK                AAAAAAAAAAAAAAAA                KKKKKKKKKKKKKKKK                                                KKKKKKKKKKKKKKKK                AAAAAAAAAAAAAAAA                KKKKKKKKKKKKKKKK                                                KKKKKKKKKKKKKKKK                AAAAAAAAAAAAAAAAKKKKKKKKKKKKKKKKKKKKKKKKKKKKKKKKKKKKKKKK                                KKKKKKKKKKKKKKKKKKKKKKKKKKKKKKKKKKKKKKKKAAAAAAAAAAAAAAAAKKKKKKKKKKKKKKKKKKKKKKKKKKKKKKKKKKKKKKKK                                KKKKKKKKKKKKKKKKKKKKKKKKKKKKKKKKKKKKKKKKAAAAAAAAAAAAAAAAKKKKKKKKKKKKKKKKKKKKKKKKKKKKKKKKKKKKKKKK                                KKKKKKKKKKKKKKKKKKKKKKKKKKKKKKKKKKKKKKKKAAAAAAAAAAAAAAAAKKKKKKKKKKKKKKKKKKKKKKKKKKKKKKKKKKKKKKKK                                KKKKKKKKKKKKKKKKKKKKKKKKKKKKKKKKKKKKKKKKAAAAAAAAAAAAAAAAKKKKKKKKKKKKKKKKKKKKKKKKKKKKKKKKKKKKKKKK                                KKKKKKKKKKKKKKKKKKKKKKKKKKKKKKKKKKKKKKKKAAAAAAAAAAAAAAAAKKKKKKKKKKKKKKKKKKKKKKKKKKKKKKKKKKKKKKKK                                KKKKKKKKKKKKKKKKKKKKKKKKKKKKKKKKKKKKKKKKAAAAAAAAAAAAAAAAKKKKKKKKKKKKKKKKKKKKKKKKKKKKKKKKKKKKKKKK                                KKKKKKKKKKKKKKKKKKKKKKKKKKKKKKKKKKKKKKKKAAAAAAAAAAAAAAAAKKKKKKKKKKKKKKKKKKKKKKKKKKKKKKKKKKKKKKKK                                KKKKKKKKKKKKKKKKKKKKKKKKKKKKKKKKKKKKKKKKAAAAAAAAAAAAAAAAKKKKKKKKKKKKKKKKAAAAAAAAAAAAAAAAAAAAAAAAAAAAAAAAAAAAAAAAAAAAAAAAAAAAAAAAAAAAAAAAAAAAAAAAAAAAAAAAKKKKKKKKKKKKKKKKAAAAAAAAAAAAAAAAKKKKKKKKKKKKKKKKAAAAAAAAAAAAAAAAAAAAAAAAAAAAAAAAAAAAAAAAAAAAAAAAAAAAAAAAAAAAAAAAAAAAAAAAAAAAAAAAKKKKKKKKKKKKKKKKAAAAAAAAAAAAAAAAKKKKKKKKKKKKKKKKAAAAAAAAAAAAAAAAAAAAAAAAAAAAAAAAAAAAAAAAAAAAAAAAAAAAAAAAAAAAAAAAAAAAAAAAAAAAAAAAKKKKKKKKKKKKKKKKAAAAAAAAAAAAAAAAKKKKKKKKKKKKKKKKAAAAAAAAAAAAAAAAAAAAAAAAAAAAAAAAAAAAAAAAAAAAAAAAAAAAAAAAAAAAAAAAAAAAAAAAAAAAAAAAKKKKKKKKKKKKKKKKAAAAAAAAAAAAAAAAKKKKKKKKKKKKKKKKAAAAAAAAAAAAAAAAAAAAAAAAAAAAAAAAAAAAAAAAAAAAAAAAAAAAAAAAAAAAAAAAAAAAAAAAAAAAAAAAKKKKKKKKKKKKKKKKAAAAAAAAAAAAAAAAKKKKKKKKKKKKKKKKAAAAAAAAAAAAAAAAAAAAAAAAAAAAAAAAAAAAAAAAAAAAAAAAAAAAAAAAAAAAAAAAAAAAAAAAAAAAAAAAKKKKKKKKKKKKKKKKAAAAAAAAAAAAAAAAKKKKKKKKKKKKKKKKAAAAAAAAAAAAAAAAAAAAAAAAAAAAAAAAAAAAAAAAAAAAAAAAAAAAAAAAAAAAAAAAAAAAAAAAAAAAAAAAKKKKKKKKKKKKKKKKAAAAAAAAAAAAAAAAKKKKKKKKKKKKKKKKAAAAAAAAAAAAAAAAAAAAAAAAAAAAAAAAAAAAAAAAAAAAAAAAAAAAAAAAAAAAAAAAAAAAAAAAAAAAAAAAKKKKKKKKKKKKKKKKAAAAAAAAAAAAAAAAAAAAAAAAAAAAAAAAAAAAAAAA                AAAAAAAA                AAAAAAAA                AAAAAAAAAAAAAAAAAAAAAAAAAAAAAAAAAAAAAAAAAAAAAAAAAAAAAAAAAAAAAAAA                AAAAAAAA                AAAAAAAA                AAAAAAAAAAAAAAAAAAAAAAAAAAAAAAAAAAAAAAAAAAAAAAAAAAAAAAAAAAAAAAAA                AAAAAAAA                AAAAAAAA                AAAAAAAAAAAAAAAAAAAAAAAAAAAAAAAAAAAAAAAAAAAAAAAAAAAAAAAAAAAAAAAA                AAAAAAAA                AAAAAAAA                AAAAAAAAAAAAAAAAAAAAAAAAAAAAAAAAAAAAAAAAAAAAAAAAAAAAAAAAAAAAAAAA                AAAAAAAA                AAAAAAAA                AAAAAAAAAAAAAAAAAAAAAAAAAAAAAAAAAAAAAAAAAAAAAAAAAAAAAAAAAAAAAAAA                AAAAAAAA                AAAAAAAA                AAAAAAAAAAAAAAAAAAAAAAAAAAAAAAAAAAAAAAAAAAAAAAAAAAAAAAAAAAAAAAAA                AAAAAAAA                AAAAAAAA                AAAAAAAAAAAAAAAAAAAAAAAAAAAAAAAAAAAAAAAAAAAAAAAAAAAAAAAAAAAAAAAA                AAAAAAAA                AAAAAAAA                AAAAAAAAAAAAAAAAAAAAAAAAAAAAAAAA        AAAAAAAAAAAAAAAA                        AAAAAAAA                AAAAAAAA                        AAAAAAAAAAAAAAAA                AAAAAAAAAAAAAAAA                        AAAAAAAA                AAAAAAAA                        AAAAAAAAAAAAAAAA                AAAAAAAAAAAAAAAA                        AAAAAAAA                AAAAAAAA                        AAAAAAAAAAAAAAAA                AAAAAAAAAAAAAAAA                        AAAAAAAA                AAAAAAAA                        AAAAAAAAAAAAAAAA                AAAAAAAAAAAAAAAA                        AAAAAAAA                AAAAAAAA                        AAAAAAAAAAAAAAAA                AAAAAAAAAAAAAAAA                        AAAAAAAA                AAAAAAAA                        AAAAAAAAAAAAAAAA                AAAAAAAAAAAAAAAA                        AAAAAAAA                AAAAAAAA                        AAAAAAAAAAAAAAAA                AAAAAAAAAAAAAAAA                        AAAAAAAA                AAAAAAAA                        AAAAAAAAAAAAAAAA                        AAAAAAAA                                                                                AAAAAAAA                                AAAAAAAA                                                                                AAAAAAAA                                AAAAAAAA                                                                                AAAAAAAA                                AAAAAAAA                                                                                AAAAAAAA                                AAAAAAAA                                                                                AAAAAAAA                                AAAAAAAA                                                                                AAAAAAAA                                AAAAAAAA                                                                                AAAAAAAA                                AAAAAAAA                                                                                AAAAAAAA                                AAAAAAAAAAAAAAAA                                                                AAAAAAAAAAAAAAAA                                AAAAAAAAAAAAAAAA                                                                AAAAAAAAAAAAAAAA                                AAAAAAAAAAAAAAAA                                                                AAAAAAAAAAAAAAAA                                AAAAAAAAAAAAAAAA                                                                AAAAAAAAAAAAAAAA                                AAAAAAAAAAAAAAAA                                                                AAAAAAAAAAAAAAAA                                AAAAAAAAAAAAAAAA                                                                AAAAAAAAAAAAAAAA                                AAAAAAAAAAAAAAAA                                                                AAAAAAAAAAAAAAAA                                AAAAAAAAAAAAAAAA                                                                AAAAAAAAAAAAAAAA                                        AAAAAAAAAAAAAAAAAAAAAAAAAAAAAAAAAAAAAAAAAAAAAAAAAAAAAAAAAAAAAAAAAAAAAAAAAAAAAAAA                                                AAAAAAAAAAAAAAAAAAAAAAAAAAAAAAAAAAAAAAAAAAAAAAAAAAAAAAAAAAAAAAAAAAAAAAAAAAAAAAAA                                                AAAAAAAAAAAAAAAAAAAAAAAAAAAAAAAAAAAAAAAAAAAAAAAAAAAAAAAAAAAAAAAAAAAAAAAAAAAAAAAA                                                AAAAAAAAAAAAAAAAAAAAAAAAAAAAAAAAAAAAAAAAAAAAAAAAAAAAAAAAAAAAAAAAAAAAAAAAAAAAAAAA                                                AAAAAAAAAAAAAAAAAAAAAAAAAAAAAAAAAAAAAAAAAAAAAAAAAAAAAAAAAAAAAAAAAAAAAAAAAAAAAAAA                                                AAAAAAAAAAAAAAAAAAAAAAAAAAAAAAAAAAAAAAAAAAAAAAAAAAAAAAAAAAAAAAAAAAAAAAAAAAAAAAAA                                                AAAAAAAAAAAAAAAAAAAAAAAAAAAAAAAAAAAAAAAAAAAAAAAAAAAAAAAAAAAAAAAAAAAAAAAAAAAAAAAA                                                AAAAAAAAAAAAAAAAAAAAAAAAAAAAAAAAAAAAAAAAAAAAAAAAAAAAAAAAAAAAAAAAAAAAAAAAAAAAAAAA                        \n"
     ]
    }
   ],
   "source": [
    "def decrypt(img, x1, x2, x3):\n",
    "  \"\"\" DESCRIPTOGRAFAR A IMAGEM \"\"\"\n",
    "  text = \"\"\n",
    "  for y in range(img.shape[0]):\n",
    "    for x in range(img.shape[1]):\n",
    "      a = img[y,x]\n",
    "      if np.all(np.equal(a,255)): text += ' '\n",
    "      else: text += chr(int(round((a[0] * x1 + a[1]  * x2 + a[2] * x3) + 65)))\n",
    "\n",
    "  return text\n",
    "\n",
    "x1 = 0.02; x2 = 0.04; x3 = 0.04\n",
    "\n",
    "print(decrypt(imagem,x1,x2,x3))"
   ]
  },
  {
   "cell_type": "markdown",
   "metadata": {
    "slideshow": {
     "slide_type": "slide"
    }
   },
   "source": [
    "# FIM.\n",
    "\n",
    "# dúvidas?"
   ]
  },
  {
   "cell_type": "markdown",
   "metadata": {
    "ExecuteTime": {
     "end_time": "2019-08-19T18:02:53.503907Z",
     "start_time": "2019-08-19T18:02:53.495993Z"
    }
   },
   "source": [
    "# continua.. (no próximo seminário. rs)\n"
   ]
  }
 ],
 "metadata": {
  "celltoolbar": "Slideshow",
  "kernelspec": {
   "display_name": "Python 3",
   "language": "python",
   "name": "python3"
  },
  "language_info": {
   "codemirror_mode": {
    "name": "ipython",
    "version": 3
   },
   "file_extension": ".py",
   "mimetype": "text/x-python",
   "name": "python",
   "nbconvert_exporter": "python",
   "pygments_lexer": "ipython3",
   "version": "3.7.4"
  },
  "varInspector": {
   "cols": {
    "lenName": 16,
    "lenType": 16,
    "lenVar": 40
   },
   "kernels_config": {
    "python": {
     "delete_cmd_postfix": "",
     "delete_cmd_prefix": "del ",
     "library": "var_list.py",
     "varRefreshCmd": "print(var_dic_list())"
    },
    "r": {
     "delete_cmd_postfix": ") ",
     "delete_cmd_prefix": "rm(",
     "library": "var_list.r",
     "varRefreshCmd": "cat(var_dic_list()) "
    }
   },
   "types_to_exclude": [
    "module",
    "function",
    "builtin_function_or_method",
    "instance",
    "_Feature"
   ],
   "window_display": false
  }
 },
 "nbformat": 4,
 "nbformat_minor": 2
}
