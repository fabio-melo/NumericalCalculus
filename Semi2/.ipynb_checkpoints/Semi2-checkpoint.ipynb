{
 "cells": [
  {
   "cell_type": "code",
   "execution_count": 1,
   "metadata": {
    "ExecuteTime": {
     "end_time": "2019-08-19T17:24:10.589961Z",
     "start_time": "2019-08-19T17:24:10.116121Z"
    }
   },
   "outputs": [
    {
     "data": {
      "text/html": [
       "<head>\n",
       "          <script type=\"text/x-mathjax-config\">\n",
       "            MathJax.Hub.Config({tex2jax: {inlineMath: [['$','$'], ['\\\\(','\\\\)']]}});\n",
       "          </script>\n",
       "          <script type=\"text/javascript\" async\n",
       "            src=\"https://example.com/mathjax/MathJax.js?config=TeX-AMS_CHTML\">\n",
       "          </script>\n",
       "          </head>\n",
       "          "
      ],
      "text/plain": [
       "<IPython.core.display.HTML object>"
      ]
     },
     "metadata": {},
     "output_type": "display_data"
    }
   ],
   "source": [
    "# boilerplate\n",
    "%matplotlib qt  \n",
    "\n",
    "import matplotlib.pyplot as plt\n",
    "import numpy as np\n",
    "from pretty import mat_print, mathjax,math\n",
    "from IPython.display import display, HTML\n",
    "import ipywidgets as widgets\n",
    "\n",
    "display(HTML(mathjax))"
   ]
  },
  {
   "cell_type": "markdown",
   "metadata": {
    "hide_input": false,
    "slideshow": {
     "slide_type": "slide"
    }
   },
   "source": [
    "# Projeto de Numérico\n",
    "## Alunos: Fábio Melo e Thuane Mikaella"
   ]
  },
  {
   "cell_type": "markdown",
   "metadata": {
    "slideshow": {
     "slide_type": "slide"
    }
   },
   "source": [
    "# O Projeto de hoje é:\n",
    "## fomos hackeados, não vai ter projeto. :("
   ]
  },
  {
   "cell_type": "markdown",
   "metadata": {
    "slideshow": {
     "slide_type": "slide"
    }
   },
   "source": [
    "![alt text](files/hacks1.png \"Logo Title Text 1\")\n"
   ]
  },
  {
   "cell_type": "markdown",
   "metadata": {
    "slideshow": {
     "slide_type": "slide"
    }
   },
   "source": [
    "# MIB\n",
    "\n",
    "O SOL HOJE ESTÁ TÃO **VERMELHO** QUE PARECE ATÉ **252** MIL GRAUS KELVIN, JÁ QUE ESSE VERÃO DE **61** SEMANAS NÃO ACABA EM **113** TONS DE COR.\n",
    "\n",
    "VOCÊ É **VERDE** MEU AMIGO, NÃO COMPILOU NEM **2** BINÁRIOS NAS MAIS DE **178** OPORTUNIDADES QUE TEVE, E AINDA LIGA DDD **21**.\n",
    "\n",
    "E NÃO TEM **AZUL** QUE SE SALVE PORQUE EU TÔ ATŔAS DE **6** PROXIES E USANDO **1** VPN COM **21** ROTAS DIFERENTES.\n",
    "\n",
    "## MAN IN BLACK..\n",
    "# MIB."
   ]
  },
  {
   "cell_type": "code",
   "execution_count": 2,
   "metadata": {
    "ExecuteTime": {
     "end_time": "2019-08-19T17:24:23.660188Z",
     "start_time": "2019-08-19T17:24:23.404085Z"
    },
    "slideshow": {
     "slide_type": "slide"
    }
   },
   "outputs": [
    {
     "data": {
      "text/plain": [
       "<matplotlib.image.AxesImage at 0x7f7dc97dab50>"
      ]
     },
     "execution_count": 2,
     "metadata": {},
     "output_type": "execute_result"
    }
   ],
   "source": [
    "#%matplotlib notebook \n",
    "imagem = plt.imread(\"/home/fabs/Desktop/Works/Projeto Numerico/hahahaha.bmp\")\n",
    "plt.imshow(imagem)\n",
    "plt.show()"
   ]
  },
  {
   "cell_type": "markdown",
   "metadata": {
    "heading_collapsed": true,
    "slideshow": {
     "slide_type": "slide"
    }
   },
   "source": [
    "# huuum. isso me parece **suspeito.**\n",
    "\n",
    "## * imagem com pixels estranhos.\n",
    "## * algum código secreto em uma mensagem???\n",
    "# e agora?"
   ]
  },
  {
   "cell_type": "markdown",
   "metadata": {
    "hidden": true,
    "slideshow": {
     "slide_type": "slide"
    }
   },
   "source": [
    "\n",
    "# **VERMELHO**  **252** **61**  **113** \n",
    "\n",
    "# **VERDE**  **2**  **178** **21**.\n",
    "\n",
    "# **AZUL**  **6** **1**  **21** \n",
    "\n",
    "# MIB."
   ]
  },
  {
   "cell_type": "markdown",
   "metadata": {
    "ExecuteTime": {
     "end_time": "2019-08-19T15:30:23.411902Z",
     "start_time": "2019-08-19T15:30:23.406846Z"
    },
    "slideshow": {
     "slide_type": "slide"
    }
   },
   "source": [
    "# RGB???\n",
    "# MIB ???\n",
    "\n",
    "\n",
    "# VALORES DE RGB?\n"
   ]
  },
  {
   "cell_type": "markdown",
   "metadata": {
    "ExecuteTime": {
     "end_time": "2019-08-19T15:33:05.558702Z",
     "start_time": "2019-08-19T15:33:05.553444Z"
    }
   },
   "source": [
    "# M =  **252** **61**  **113** \n",
    "\n",
    "# I =  **2**  **178** **21**.\n",
    "\n",
    "# B =  **6** **1**  **21** "
   ]
  },
  {
   "cell_type": "code",
   "execution_count": null,
   "metadata": {
    "ExecuteTime": {
     "end_time": "2019-08-19T16:53:16.649448Z",
     "start_time": "2019-08-19T16:53:16.316181Z"
    },
    "slideshow": {
     "slide_type": "slide"
    }
   },
   "outputs": [],
   "source": [
    "%matplotlib inline\n",
    "\n",
    "A = np.array([[[252,61,113],[2,178,21],[6,1,21]],],dtype=np.int32)\n",
    "    \n",
    "plt.imshow(A)"
   ]
  },
  {
   "cell_type": "code",
   "execution_count": 3,
   "metadata": {
    "ExecuteTime": {
     "end_time": "2019-08-19T17:24:52.710703Z",
     "start_time": "2019-08-19T17:24:52.596242Z"
    },
    "code_folding": [],
    "slideshow": {
     "slide_type": "slide"
    }
   },
   "outputs": [
    {
     "data": {
      "application/vnd.jupyter.widget-view+json": {
       "model_id": "47bb8f6f0db74b16ae129cf777e6f50a",
       "version_major": 2,
       "version_minor": 0
      },
      "text/plain": [
       "GridBox(children=(Label(value='$$A= \\\\begin{bmatrix}\\n  252. & 61. & 113.\\\\\\\\\\n  2. & 178. & 21.\\\\\\\\\\n  6. & 1…"
      ]
     },
     "metadata": {},
     "output_type": "display_data"
    }
   ],
   "source": [
    "A = np.array([[252,61,113],[2,178,21],[6,1,21]],dtype=np.float32)\n",
    "B = np.array([12,8,1], dtype=np.float32)\n",
    "chute = np.array([0.0,0.0,0.0],dtype=np.float32)\n",
    "\n",
    "\n",
    "items = [widgets.Label(math('A',A)), widgets.Label(math('B',B)), widgets.Label(math('x(0)',chute)) ]\n",
    "widgets.GridBox(items, layout=widgets.Layout(grid_template_columns=\"repeat(3, 300px)\"))\n",
    "\n"
   ]
  },
  {
   "cell_type": "code",
   "execution_count": 4,
   "metadata": {
    "ExecuteTime": {
     "end_time": "2019-08-19T17:24:56.567772Z",
     "start_time": "2019-08-19T17:24:56.498588Z"
    },
    "code_folding": [],
    "scrolled": true,
    "slideshow": {
     "slide_type": "slide"
    }
   },
   "outputs": [
    {
     "data": {
      "text/html": [
       "$$ x^{(k=0)} = \\begin{bmatrix}\n",
       "  0. & 0. & 0.\\\\\n",
       "\\end{bmatrix} $$ $$ x^{(k=1)} = \\begin{bmatrix}\n",
       "  0.04761905 & 0.04494382 & 0.04761905\\\\\n",
       "\\end{bmatrix} $$ $$ x^{(k=2)} = \\begin{bmatrix}\n",
       "  0.0153868 & 0.0387908 & 0.03187342\\\\\n",
       "\\end{bmatrix} $$ $$ x^{(k=3)} = \\begin{bmatrix}\n",
       "  0.02393676 & 0.04101059 & 0.04137564\\\\\n",
       "\\end{bmatrix} $$ $$ x^{(k=4)} = \\begin{bmatrix}\n",
       "  0.01913852 & 0.03979347 & 0.03882709\\\\\n",
       "\\end{bmatrix} $$ $$ x^{(k=5)} = \\begin{bmatrix}\n",
       "  0.02057594 & 0.04014806 & 0.04025597\\\\\n",
       "\\end{bmatrix} $$ $$ x^{(k=6)} = \\begin{bmatrix}\n",
       "  0.01984938 & 0.03996333 & 0.03982839\\\\\n",
       "\\end{bmatrix} $$ $$ x^{(k=7)} = \\begin{bmatrix}\n",
       "  0.02008583 & 0.04002194 & 0.04004478\\\\\n",
       "\\end{bmatrix} $$ $$ x^{(k=8)} = \\begin{bmatrix}\n",
       "  0.01997461 & 0.03999375 & 0.03997443\\\\\n",
       "\\end{bmatrix} $$ $$ x^{(k=9)} = \\begin{bmatrix}\n",
       "  0.02001298 & 0.0400033 & 0.04000755\\\\\n",
       "\\end{bmatrix} $$ $$ x^{(k=10)} = \\begin{bmatrix}\n",
       "  0.01999581 & 0.03999896 & 0.03999614\\\\\n",
       "\\end{bmatrix} $$ $$ x^{(k=11)} = \\begin{bmatrix}\n",
       "  0.02000198 & 0.0400005 & 0.04000125\\\\\n",
       "\\end{bmatrix} $$ $$ x^{(k=12)} = \\begin{bmatrix}\n",
       "  0.01999932 & 0.03999983 & 0.03999941\\\\\n",
       "\\end{bmatrix} $$ $$ x^{(k=13)} = \\begin{bmatrix}\n",
       "  0.02000031 & 0.04000008 & 0.0400002\\\\\n",
       "\\end{bmatrix} $$ $$ x^{(k=14)} = \\begin{bmatrix}\n",
       "  0.01999989 & 0.03999997 & 0.03999991\\\\\n",
       "\\end{bmatrix} $$ $$ x^{(k=15)} = \\begin{bmatrix}\n",
       "  0.02000005 & 0.04000001 & 0.04000003\\\\\n",
       "\\end{bmatrix} $$ $$ x^{(k=16)} = \\begin{bmatrix}\n",
       "  0.01999998 & 0.04 & 0.03999999\\\\\n",
       "\\end{bmatrix} $$ $$ x^{(k=17)} = \\begin{bmatrix}\n",
       "  0.02000001 & 0.04 & 0.04000001\\\\\n",
       "\\end{bmatrix} $$ $$ x^{(k=18)} = \\begin{bmatrix}\n",
       "  0.02 & 0.04 & 0.04\\\\\n",
       "\\end{bmatrix} $$ "
      ],
      "text/plain": [
       "<IPython.core.display.HTML object>"
      ]
     },
     "metadata": {},
     "output_type": "display_data"
    }
   ],
   "source": [
    "def jacobi(a,b,x,t=50, tol=1e-8):\n",
    "    x = x.copy(); x0 = x.copy(); n=len(x); reslist = []\n",
    "    m = 0; mathtx = mat_print(m,x); m += 1\n",
    "    while m < t:\n",
    "        q = np.zeros(x.shape)\n",
    "        for i in range(n):\n",
    "            s=0\n",
    "            for j in range(n):\n",
    "                if i!=j:\n",
    "                    s += a[i,j] *x[j]\n",
    "            q[i] = ((b[i]-s)/a[i,i])\n",
    "        x = np.array(q)\n",
    "        if all([(False if abs(x0[k] - x[k]) > tol else True) for k in range(len(x))]):                 \n",
    "            break\n",
    "        mathtx += mat_print(m,q); reslist.append(q)\n",
    "        x0 = np.array(q)\n",
    "        m += 1\n",
    "    return mathtx, reslist\n",
    "\n",
    "res_j,l_j = jacobi(A,B,chute, t=20); display(HTML(res_j))"
   ]
  },
  {
   "cell_type": "code",
   "execution_count": 5,
   "metadata": {
    "ExecuteTime": {
     "end_time": "2019-08-19T17:24:59.292786Z",
     "start_time": "2019-08-19T17:24:59.234190Z"
    },
    "code_folding": [],
    "hide_input": false,
    "scrolled": false,
    "slideshow": {
     "slide_type": "slide"
    }
   },
   "outputs": [
    {
     "data": {
      "text/html": [
       "$$ x^{(k=0)} = \\begin{bmatrix}\n",
       "  0. & 0. & 0.\\\\\n",
       "\\end{bmatrix} $$ $$ x^{(k=1)} = \\begin{bmatrix}\n",
       "  0.04761905 & 0.04440878 & 0.0318989\\\\\n",
       "\\end{bmatrix} $$ $$ x^{(k=2)} = \\begin{bmatrix}\n",
       "  0.02256543 & 0.04092692 & 0.03922288\\\\\n",
       "\\end{bmatrix} $$ $$ x^{(k=3)} = \\begin{bmatrix}\n",
       "  0.0201241 & 0.04009029 & 0.03996024\\\\\n",
       "\\end{bmatrix} $$ $$ x^{(k=4)} = \\begin{bmatrix}\n",
       "  0.01999597 & 0.04000473 & 0.04000093\\\\\n",
       "\\end{bmatrix} $$ $$ x^{(k=5)} = \\begin{bmatrix}\n",
       "  0.01999844 & 0.03999991 & 0.04000045\\\\\n",
       "\\end{bmatrix} $$ $$ x^{(k=6)} = \\begin{bmatrix}\n",
       "  0.01999982 & 0.03999995 & 0.04000005\\\\\n",
       "\\end{bmatrix} $$ $$ x^{(k=7)} = \\begin{bmatrix}\n",
       "  0.01999999 & 0.04 & 0.04\\\\\n",
       "\\end{bmatrix} $$ $$ x^{(k=8)} = \\begin{bmatrix}\n",
       "  0.02 & 0.04 & 0.04\\\\\n",
       "\\end{bmatrix} $$ "
      ],
      "text/plain": [
       "<IPython.core.display.HTML object>"
      ]
     },
     "metadata": {},
     "output_type": "display_data"
    }
   ],
   "source": [
    "def seidel(a,b,x,t=50, tol=1e-8):\n",
    "    x = x.copy(); x0 = x.copy(); n=len(x); reslist = []\n",
    "    m = 0; mathtx = mat_print(m,x) ; m += 1\n",
    "    \n",
    "    while m < t:\n",
    "        for i in range(n):\n",
    "            s=0\n",
    "            for j in range(n):\n",
    "                if i!=j:\n",
    "                    s += a[i,j] *x[j]\n",
    "            x[i] = (b[i]-s)/a[i,i]\n",
    "            \n",
    "        if all([(False if abs(x0[k] - x[k]) > tol else True) for k in range(len(x))]): break\n",
    "        mathtx += mat_print(m,x); reslist.append(x.copy())\n",
    "        \n",
    "        x0 = x.copy()\n",
    "        m += 1\n",
    "    return mathtx, reslist\n",
    "\n",
    "\n",
    "\n",
    "res_s, l_s = seidel(A,B,chute, t=200); display(HTML(res_s))"
   ]
  },
  {
   "cell_type": "code",
   "execution_count": null,
   "metadata": {
    "ExecuteTime": {
     "end_time": "2019-08-19T16:40:29.537402Z",
     "start_time": "2019-08-19T16:40:29.514295Z"
    },
    "scrolled": true
   },
   "outputs": [],
   "source": [
    "import ipywidgets as widgets\n",
    "\n",
    "items = [widgets.Label(res_j), widgets.Label(res_s)]\n",
    "widgets.GridBox(items, layout=widgets.Layout(grid_template_columns=\"repeat(2, 400px)\"))"
   ]
  },
  {
   "cell_type": "code",
   "execution_count": 14,
   "metadata": {
    "ExecuteTime": {
     "end_time": "2019-08-19T17:32:10.908440Z",
     "start_time": "2019-08-19T17:32:10.723291Z"
    },
    "code_folding": [],
    "slideshow": {
     "slide_type": "slide"
    }
   },
   "outputs": [],
   "source": [
    "#%matplotlib notebook\n",
    "from mpl_toolkits.mplot3d import Axes3D\n",
    "import matplotlib.pyplot as plt\n",
    "\n",
    "def pl3d(l_s,l_j):\n",
    "    l_s_k = np.array(l_s)\n",
    "    x,y,z = np.hsplit(l_s_k,3)\n",
    "\n",
    "    l_j_k = np.array(l_j)\n",
    "    xj,yj,zj = np.hsplit(l_j_k,3)\n",
    "\n",
    "    fig = plt.figure()\n",
    "    ax = fig.add_subplot(111, projection='3d')\n",
    "    ax.scatter(0.02,0.04,0.04, c='g',marker='^', s=500)\n",
    "\n",
    "    ax.set_xlabel('X Label')\n",
    "    ax.set_ylabel('Y Label')\n",
    "    ax.set_zlabel('Z Label')\n",
    "\n",
    "    ax.scatter(x, y, z, c='r',marker='o',s=30)\n",
    "    ax.scatter(xj,yj,zj,c='b',marker='o',s=30)\n",
    "    plt.show()\n",
    "\n",
    "\n",
    "pl3d(l_s,l_j)"
   ]
  },
  {
   "cell_type": "code",
   "execution_count": null,
   "metadata": {},
   "outputs": [],
   "source": []
  }
 ],
 "metadata": {
  "celltoolbar": "Slideshow",
  "kernelspec": {
   "display_name": "Python 3",
   "language": "python",
   "name": "python3"
  },
  "language_info": {
   "codemirror_mode": {
    "name": "ipython",
    "version": 3
   },
   "file_extension": ".py",
   "mimetype": "text/x-python",
   "name": "python",
   "nbconvert_exporter": "python",
   "pygments_lexer": "ipython3",
   "version": "3.7.4"
  },
  "varInspector": {
   "cols": {
    "lenName": 16,
    "lenType": 16,
    "lenVar": 40
   },
   "kernels_config": {
    "python": {
     "delete_cmd_postfix": "",
     "delete_cmd_prefix": "del ",
     "library": "var_list.py",
     "varRefreshCmd": "print(var_dic_list())"
    },
    "r": {
     "delete_cmd_postfix": ") ",
     "delete_cmd_prefix": "rm(",
     "library": "var_list.r",
     "varRefreshCmd": "cat(var_dic_list()) "
    }
   },
   "types_to_exclude": [
    "module",
    "function",
    "builtin_function_or_method",
    "instance",
    "_Feature"
   ],
   "window_display": false
  }
 },
 "nbformat": 4,
 "nbformat_minor": 2
}
